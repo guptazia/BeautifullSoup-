{
 "cells": [
  {
   "cell_type": "code",
   "execution_count": 2,
   "id": "8c775665",
   "metadata": {},
   "outputs": [
    {
     "name": "stdout",
     "output_type": "stream",
     "text": [
      "Requirement already satisfied: bs4 in c:\\users\\anujc\\anaconda3\\lib\\site-packages (0.0.1)\n",
      "Requirement already satisfied: beautifulsoup4 in c:\\users\\anujc\\anaconda3\\lib\\site-packages (from bs4) (4.10.0)\n",
      "Requirement already satisfied: soupsieve>1.2 in c:\\users\\anujc\\anaconda3\\lib\\site-packages (from beautifulsoup4->bs4) (2.2.1)\n",
      "Requirement already satisfied: requests in c:\\users\\anujc\\anaconda3\\lib\\site-packages (2.26.0)\n",
      "Requirement already satisfied: charset-normalizer~=2.0.0 in c:\\users\\anujc\\anaconda3\\lib\\site-packages (from requests) (2.0.4)\n",
      "Requirement already satisfied: urllib3<1.27,>=1.21.1 in c:\\users\\anujc\\anaconda3\\lib\\site-packages (from requests) (1.26.7)\n",
      "Requirement already satisfied: certifi>=2017.4.17 in c:\\users\\anujc\\anaconda3\\lib\\site-packages (from requests) (2021.10.8)\n",
      "Requirement already satisfied: idna<4,>=2.5 in c:\\users\\anujc\\anaconda3\\lib\\site-packages (from requests) (3.2)\n"
     ]
    }
   ],
   "source": [
    "!pip install bs4\n",
    "!pip install requests"
   ]
  },
  {
   "cell_type": "code",
   "execution_count": 3,
   "id": "e3670742",
   "metadata": {},
   "outputs": [],
   "source": [
    "from bs4 import BeautifulSoup\n",
    "import requests"
   ]
  },
  {
   "cell_type": "code",
   "execution_count": 4,
   "id": "b0965887",
   "metadata": {},
   "outputs": [],
   "source": [
    "page=requests.get('https://www.icc-cricket.com/rankings/mens/team-rankings/odi')"
   ]
  },
  {
   "cell_type": "code",
   "execution_count": 5,
   "id": "89f18750",
   "metadata": {},
   "outputs": [
    {
     "data": {
      "text/plain": [
       "<Response [200]>"
      ]
     },
     "execution_count": 5,
     "metadata": {},
     "output_type": "execute_result"
    }
   ],
   "source": [
    "page"
   ]
  },
  {
   "cell_type": "code",
   "execution_count": 6,
   "id": "64137604",
   "metadata": {},
   "outputs": [
    {
     "data": {
      "text/plain": [
       "<!DOCTYPE html>\n",
       "<html lang=\"en\">\n",
       "<head>\n",
       "<meta content=\"ICC Men's ODI Team Rankings | ICC\" name=\"twitter:title\"/>\n",
       "<meta content=\"website\" property=\"og:type\"/>\n",
       "<meta content=\"summary_large_image\" property=\"twitter:card\"/>\n",
       "<meta content=\"Official International Cricket Council ranking for One Day International (ODI) cricket teams. Discover latest ICC rankings table, predict upcoming matches, see points and ratings for all teams.\" name=\"description\"/>\n",
       "<meta content=\"@icc\" property=\"twitter:site\"/>\n",
       "<meta content=\"Official International Cricket Council ranking for One Day International (ODI) cricket teams. Discover latest ICC rankings table, predict upcoming matches, see points and ratings for all teams.\" name=\"twitter:description\"/>\n",
       "<meta content=\"https://www.icc-cricket.com/resources/ver/i/elements/default-thumbnail.jpg\" name=\"twitter:image\"/>\n",
       "<meta content=\"ICC Men's ODI Team Rankings | ICC\" property=\"og:title\"/>\n",
       "<meta content=\"https://www.icc-cricket.com/resources/ver/i/elements/default-thumbnail.jpg\" property=\"og:image\"/>\n",
       "<title>ICC Men's ODI Team Rankings | ICC</title>\n",
       "<meta content=\"Official International Cricket Council ranking for One Day International (ODI) cricket teams. Discover latest ICC rankings table, predict upcoming matches, see points and ratings for all teams.\" property=\"og:description\"/>\n",
       "<!-- Designed and built by Pulselive - www.pulselive.com -->\n",
       "<script>\n",
       "\n",
       "    var dataLayer = [{\n",
       "        'user_language':'English',\n",
       "        'web_domain':'www.icc-cricket.com',\n",
       "        'page_type':'/rankings/mens/team-rankings/odi'  \n",
       "    }];\n",
       "\n",
       "</script>\n",
       "<!-- Google Tag Manager -->\n",
       "<script>(function(w,d,s,l,i){w[l]=w[l]||[];w[l].push({'gtm.start':\n",
       "new Date().getTime(),event:'gtm.js'});var f=d.getElementsByTagName(s)[0],\n",
       "j=d.createElement(s),dl=l!='dataLayer'?'&l='+l:'';j.async=true;j.src=\n",
       "'https://www.googletagmanager.com/gtm.js?id='+i+dl;f.parentNode.insertBefore(j,f);\n",
       "})(window,document,'script','dataLayer','GTM-T7DPH24');</script>\n",
       "<!-- End Google Tag Manager -->\n",
       "<script async=\"\" src=\"https://securepubads.g.doubleclick.net/tag/js/gpt.js\"></script>\n",
       "<meta charset=\"utf-8\"/>\n",
       "<meta content=\"width=device-width, initial-scale=1\" name=\"viewport\"/>\n",
       "<meta content=\"956440606\" name=\"apple-itunes-app\"/>\n",
       "<link href=\"/resources/prod/v8.21.21/manifest.json\" rel=\"manifest\"/>\n",
       "<link href=\"/resources/prod/v8.21.21/i/elements/favicon.ico\" rel=\"shortcut icon\"/>\n",
       "<link href=\"https://plus.google.com/+ICC\" rel=\"publisher\"/>\n",
       "<script type=\"application/ld+json\">\n",
       "    {\n",
       "        \"@context\": \"https://schema.org\",\n",
       "        \"@type\": \"WebPage\",\n",
       "        \"headline\": \"\",\n",
       "        \"url\": \"https://www.icc-cricket.com/rankings/mens/team-rankings/odi\", \n",
       "        \"creator\": [\"ICC\"]\n",
       "    }\n",
       "</script>\n",
       "<title>International Cricket Council</title>\n",
       "<!-- google platform library -->\n",
       "<script async=\"\" defer=\"\" src=\"https://apis.google.com/js/api:client.js?onload=startApp\"></script>\n",
       "<script>\n",
       "\n",
       "    var startApp = function() {\n",
       "        gapi.load('auth2', function(){\n",
       "            // Retrieve the singleton for the GoogleAuth library and set up the client.\n",
       "            auth2 = gapi.auth2.init({\n",
       "                client_id: '844310787835-1rirg6e5plp2jou6v701br43iuo0lkcu.apps.googleusercontent.com'\n",
       "                // Request scopes in addition to 'profile' and 'email'\n",
       "                //scope: 'additional_scope'\n",
       "            });\n",
       "        });\n",
       "    };\n",
       "</script>\n",
       "<link href=\"https://fonts.googleapis.com/css?family=Hind+Siliguri:300,400,500,600\" rel=\"stylesheet\"/>\n",
       "<!-- Polyfill service provided by the FT - https://github.com/Financial-Times/polyfill-service -->\n",
       "<script src=\"https://cdn.polyfill.io/v2/polyfill.min.js?features=default,fetch\"></script>\n",
       "<link href=\"/resources/prod/v8.21.21/styles/screen.css\" rel=\"stylesheet\"/>\n",
       "<script>\n",
       "\t\twindow.RESOURCE_VERSION = 'prod/v8.21.21';\n",
       "\t</script>\n",
       "</head>\n",
       "<body>\n",
       "<!-- Google Tag Manager (noscript) -->\n",
       "<noscript><iframe height=\"0\" src=\"https://www.googletagmanager.com/ns.html?id=GTM-T7DPH24\" style=\"display:none;visibility:hidden\" width=\"0\"></iframe></noscript>\n",
       "<!-- End Google Tag Manager (noscript) -->\n",
       "<!--\n",
       "    Start of Floodlight Tag: Please do not removeActivity name of this tag: ICC Website - VisitationURL of the webpage where the tag is expected to be placed: This tag must be placed between the <body> and </body> tags, as close as possible to the opening tag. Creation Date: 10/01/2019\n",
       "-->\n",
       "<iframe frameborder=\"0\" height=\"1\" src=\"https://9282652.fls.doubleclick.net/activityi;src=9282652;type=iccre0;cat=iccwe0;u1=[user_language];u2=[user_country];u3=[page_type];u4=[web_domain];dc_lat=;dc_rdid=;tag_for_child_directed_treatment=;tfua=;npa=;ord=[SessionID]?\" style=\"display:none\" width=\"1\"></iframe>\n",
       "<!-- End of Floodlight Tag: Please do not remove -->\n",
       "<script id=\"parsely-cfg\" src=\"//cdn.parsely.com/keys/icc-cricket.com/p.js\"></script>\n",
       "<script>\n",
       "    window.fbAsyncInit = function() {\n",
       "        FB.init({\n",
       "            appId            : 159513024983374,\n",
       "            autoLogAppEvents : true,\n",
       "            xfbml            : true,\n",
       "            version          : 'v3.0'\n",
       "        });\n",
       "    };\n",
       "\n",
       "    (function(d, s, id){\n",
       "        var js, fjs = d.getElementsByTagName(s)[0];\n",
       "        if (d.getElementById(id)) {return;}\n",
       "        js = d.createElement(s); js.id = id;\n",
       "        js.src = \"https://connect.facebook.net/en_US/sdk.js\";\n",
       "        fjs.parentNode.insertBefore(js, fjs);\n",
       "    }(document, 'script', 'facebook-jssdk'));\n",
       "</script>\n",
       "<div class=\"user-account-overlay js-user-account-overlay\"></div>\n",
       "<section class=\"user-account js-user-account\" data-script=\"sso_user-account\" data-widget=\"user-account\">\n",
       "<div class=\"user-account__wrapper js-panel-account u-hide\">\n",
       "<div class=\"user-account__header\">\n",
       "<div class=\"user-account__close js-account-slider-close-btn\" role=\"button\">\n",
       "<svg class=\"icon\"><use xlink:href=\"/resources/prod/v8.21.21/i/svg-output/icons.svg#icn-close\" xmlns:xlink=\"http://www.w3.org/1999/xlink\"></use></svg>\n",
       "</div>\n",
       "<div class=\"user-account__user-wrapper\">\n",
       "<div class=\"user-account__image\">\n",
       "<img alt=\"User Image\" class=\"u-hide js-account-user-img\" src=\"#\"/>\n",
       "</div>\n",
       "<div class=\"user-account__user-info\">\n",
       "<p class=\"user-account__user-info__text js-account-user\">Name Lastname</p>\n",
       "<p class=\"user-account__user-info__profile js-profile-completion-info u-hide\">\n",
       "<svg class=\"icon\"><use xlink:href=\"/resources/prod/v8.21.21/i/svg-output/icons.svg#icn-alert\" xmlns:xlink=\"http://www.w3.org/1999/xlink\"></use></svg>\n",
       "                        Profile <span class=\"js-profile-completion-percentage\"></span>% Complete\n",
       "                    </p>\n",
       "</div>\n",
       "</div>\n",
       "<div class=\"user-account__tabs-nav js-tabs-wrapper\"></div>\n",
       "</div>\n",
       "<div class=\"account-message js-account-message\"></div>\n",
       "<form autocomplete=\"off\" id=\"user-account\" name=\"user-account\">\n",
       "<div class=\"user-account__tab\" data-ui-tab=\"My Account\">\n",
       "<div class=\"user-account__social-wrapper js-social-wrapper u-hide\"></div>\n",
       "<fieldset>\n",
       "<div class=\"form-group-multiple\">\n",
       "<div class=\"form-group\">\n",
       "<label class=\"form-group__label\" for=\"given_name\">First name *</label>\n",
       "<input class=\"form-group__element\" id=\"given_name\" maxlength=\"50\" name=\"given_name\" pattern=\"^[A-Za-z-\\s]+$\" required=\"\" type=\"text\"/>\n",
       "<p class=\"js-error form-error\"></p>\n",
       "</div>\n",
       "<div class=\"form-group\">\n",
       "<label class=\"form-group__label\" for=\"family_name\">Last name *</label>\n",
       "<input class=\"form-group__element\" id=\"family_name\" maxlength=\"50\" name=\"family_name\" pattern=\"[A-Za-z-\\s]+$\" required=\"\" type=\"text\"/>\n",
       "<p class=\"js-error form-error\"></p>\n",
       "</div>\n",
       "</div>\n",
       "<div class=\"form-group-multiple form-group-multiple--with-button\">\n",
       "<div class=\"form-group is-disabled js-change-email-input\">\n",
       "<label class=\"form-group__label\" for=\"email\">Email address *</label>\n",
       "<input autocomplete=\"off\" class=\"form-group__element\" disabled=\"\" id=\"email\" maxlength=\"50\" name=\"email\" type=\"email\"/>\n",
       "<p class=\"js-error form-error\"></p>\n",
       "<p class=\"js-email-exists form-error form-error--email\">Email address not available.</p>\n",
       "</div>\n",
       "<div class=\"form-group form-group--button\">\n",
       "<button class=\"form-btn form-btn--outlined js-change-email\" novalidate=\"\" type=\"button\">Change Email</button>\n",
       "</div>\n",
       "</div>\n",
       "<div class=\"form-group-multiple form-group-multiple--with-button js-account-password\">\n",
       "<div class=\"form-group is-disabled js-change-password-input\">\n",
       "<label class=\"form-group__label\" for=\"password\">Password *</label>\n",
       "<input autocomplete=\"off\" class=\"form-group__element\" disabled=\"\" id=\"password\" name=\"password\" placeholder=\"******\" type=\"password\"/>\n",
       "<p class=\"js-error form-error\"></p>\n",
       "</div>\n",
       "<div class=\"form-group form-group--button\">\n",
       "<button class=\"form-btn form-btn--outlined js-change-password\" novalidate=\"\" type=\"button\">Change Password</button>\n",
       "</div>\n",
       "</div>\n",
       "<div class=\"form-block form-block\">\n",
       "<div class=\"form-block__label form-block__label--dob\">Date of Birth</div>\n",
       "<div class=\"form-group-multiple\">\n",
       "<div class=\"form-group\">\n",
       "<label class=\"form-group__label\" for=\"day\">Day *</label>\n",
       "<input class=\"form-group__element\" id=\"day\" min=\"0\" name=\"day\" placeholder=\"dd\" required=\"\" type=\"number\"/>\n",
       "<p class=\"js-error form-error\"></p>\n",
       "</div>\n",
       "<div class=\"form-group\">\n",
       "<label class=\"form-group__label\" for=\"month\">Month *</label>\n",
       "<input class=\"form-group__element\" id=\"month\" min=\"0\" name=\"month\" placeholder=\"mm\" required=\"\" type=\"number\"/>\n",
       "<p class=\"js-error form-error\"></p>\n",
       "</div>\n",
       "<div class=\"form-group\">\n",
       "<label class=\"form-group__label\" for=\"year\">Year *</label>\n",
       "<input class=\"form-group__element\" id=\"year\" min=\"0\" name=\"year\" placeholder=\"yyyy\" required=\"\" type=\"number\"/>\n",
       "<p class=\"js-error form-error\"></p>\n",
       "</div>\n",
       "</div>\n",
       "<p class=\"js-date-error form-error form-error--date\">The date of birth is not valid</p>\n",
       "</div>\n",
       "<div class=\"form-block\" data-dropdown-type=\"SSO_COUNTRY\" data-widget=\"form-dropdown\">\n",
       "<div class=\"form-block__label\">Country of residence</div>\n",
       "<div class=\"form-dropdown js-dropdown-wrapper\"></div>\n",
       "</div>\n",
       "</fieldset>\n",
       "</div>\n",
       "<div class=\"user-account__tab\" data-ui-tab=\"My Preferences\">\n",
       "<div class=\"js-account-prefs u-hide\">\n",
       "<fieldset>\n",
       "<div class=\"form-block\" data-dropdown-type=\"SSO_TEAM\" data-widget=\"form-dropdown\">\n",
       "<div class=\"form-block__label\">Your favourite team</div>\n",
       "<div class=\"form-dropdown js-dropdown-wrapper\"></div>\n",
       "</div>\n",
       "<div class=\"js-contact-prefs user-account__contact-prefs-wrapper\">\n",
       "<div class=\"user-account__alert\">\n",
       "<svg class=\"icon\"><use xlink:href=\"/resources/prod/v8.21.21/i/svg-output/icons.svg#icn-alert\" xmlns:xlink=\"http://www.w3.org/1999/xlink\"></use></svg>\n",
       "<span>Sorry, but your contact preferences will take up to 24hrs to update</span>\n",
       "</div>\n",
       "<div class=\"user-account__contact-prefs\">\n",
       "<div class=\"form-block form-block--no-margin\">\n",
       "<div class=\"form-group form-group--checkbox\">\n",
       "<input class=\"form-group__element\" id=\"allow-contacting\" name=\"allow-contacting\" type=\"checkbox\"/>\n",
       "<label class=\"form-group__label\" for=\"allow-contacting\">I'm happy for the ICC to contact me</label>\n",
       "</div>\n",
       "<p class=\"js-error form-error\"></p>\n",
       "</div>\n",
       "<div class=\"form-block form-block--no-margin\">\n",
       "<div class=\"form-group form-group--checkbox\">\n",
       "<input class=\"form-group__element\" id=\"allow-partner-contacting\" name=\"allow-partner-contacting\" type=\"checkbox\"/>\n",
       "<label class=\"form-group__label\" for=\"allow-partner-contacting\">I'm happy for the ICC's partners to contact me</label>\n",
       "</div>\n",
       "<p class=\"js-error form-error\"></p>\n",
       "</div>\n",
       "</div>\n",
       "</div>\n",
       "</fieldset>\n",
       "</div>\n",
       "<div class=\"overlay__loader__small js-loader-prefs\">\n",
       "    Hold on! Loading your preferences <div class=\"loader loader--small\"></div>\n",
       "</div>\n",
       "</div>\n",
       "<div class=\"user-account__buttons-wrapper\">\n",
       "<div class=\"user-account__account-actions js-buttons-wrapper\">\n",
       "<button class=\"form-btn form-btn--grey is-disabled js-cancel\" disabled=\"\">Cancel</button>\n",
       "<button class=\"form-btn is-disabled js-submit\" disabled=\"\" type=\"submit\">Save Changes</button>\n",
       "<div class=\"loader js-loader u-hide\"></div>\n",
       "</div>\n",
       "<button class=\"form-btn form-btn--grey js-account-signout u-show-tablet\">Sign Out<svg class=\"icon\"><use xlink:href=\"/resources/prod/v8.21.21/i/svg-output/icons.svg#icn-sign-out\" xmlns:xlink=\"http://www.w3.org/1999/xlink\"></use></svg></button>\n",
       "</div>\n",
       "</form>\n",
       "</div>\n",
       "<div class=\"user-account__wrapper js-panel-account-password u-hide\">\n",
       "<form id=\"account-edit-password\" name=\"account-edit-password\" novalidate=\"\">\n",
       "<div class=\"user-account__tabs-wrapper\">\n",
       "<h1 class=\"overlay__title\">\n",
       "            Edit your password\n",
       "            <span class=\"overlay__title__option\"><a class=\"form-cta js-cancel-password\" href=\"#\">back</a></span>\n",
       "</h1>\n",
       "<div class=\"form-group form-group--password\">\n",
       "<div class=\"form-group__password-action js-toggle-password\">Show</div>\n",
       "<label class=\"form-group__label\" for=\"current-password\">Current Password *</label>\n",
       "<input class=\"form-group__element\" id=\"current-password\" name=\"current-password\" required=\"\" type=\"password\"/>\n",
       "<p class=\"js-error form-error\"></p>\n",
       "<p class=\"js-current-pwd-error form-error form-error--email\">Invalid current password</p>\n",
       "</div>\n",
       "<a class=\"form-cta form-cta--right\" href=\"/forgot-password\">Forgot password?</a>\n",
       "<div class=\"form-block\">\n",
       "<div class=\"form-group form-group--password\">\n",
       "<div class=\"form-group__password-action js-toggle-password\">Show</div>\n",
       "<label class=\"form-group__label\" for=\"new-password\">New password *</label>\n",
       "<input class=\"form-group__element\" id=\"new-password\" name=\"new-password\" required=\"\" type=\"password\"/>\n",
       "<div class=\"form-block__verify-password form-block__verify-password--slider js-verify-password\">\n",
       "                    Password must include...\n",
       "                    <ul class=\"form-block__verify-list\">\n",
       "<li class=\"js-verify-length\">8 or more characters</li>\n",
       "<li class=\"js-verify-letters\">At least one upper and lower case letter</li>\n",
       "<li class=\"js-verify-number\">At least one number or symbol</li>\n",
       "</ul>\n",
       "</div>\n",
       "<p class=\"js-error form-error\"></p>\n",
       "<p class=\"js-new-pwd-error form-error form-error--email\">The new password needs to be different than the current one.</p>\n",
       "</div>\n",
       "</div>\n",
       "<div class=\"form-group form-group--password\">\n",
       "<div class=\"form-group__password-action js-toggle-password\">Show</div>\n",
       "<label class=\"form-group__label\" for=\"confirm-password\">Confirm new password *</label>\n",
       "<input class=\"form-group__element\" id=\"confirm-password\" name=\"confirm-password\" required=\"\" type=\"password\"/>\n",
       "<p class=\"js-error form-error\"></p>\n",
       "<p class=\"js-confirm-pwd-error form-error form-error--email\">The confirmation does not match your new password</p>\n",
       "</div>\n",
       "</div>\n",
       "<div class=\"user-account__buttons-wrapper\">\n",
       "<div class=\"user-account__account-actions\">\n",
       "<button class=\"form-btn form-btn--grey js-cancel-password\" type=\"button\">Cancel</button>\n",
       "<button class=\"form-btn is-disabled js-submit-password\" disabled=\"\" type=\"submit\">Change Password</button>\n",
       "<div class=\"loader js-password-loader u-hide\"></div>\n",
       "</div>\n",
       "</div>\n",
       "</form>\n",
       "</div>\n",
       "</section>\n",
       "<div class=\"js-mobile-banner mobile-banner\" data-widget=\"mobile-banner\">\n",
       "<div class=\"wrapper\">\n",
       "<div class=\"col-12\">\n",
       "<div class=\"mobile-banner__wrapper\">\n",
       "<p class=\"mobile-banner__header\">Official ICC App</p>\n",
       "<p class=\"mobile-banner__subheader\"><strong>Your App for international cricket.</strong> The official ICC app provides coverage across all of the current international action including fixtures, results, videos, ICC news, rankings and more. Don’t miss a moment and keep up with the latest from around the world of cricket!</p>\n",
       "<div class=\"mobile-banner__app-buttons\">\n",
       "<a class=\"btn\" href=\"https://www.icc-cricket.com/mobile\" target=\"_blank\">Find Out More</a>\n",
       "</div>\n",
       "</div>\n",
       "</div>\n",
       "<div class=\"mobile-banner__image mobile-banner__image--desktop\">\n",
       "<picture class=\"mobile-banner__picture\">\n",
       "<source srcset=\"https://resources.pulse.icc-cricket.com/photo-resources/2021/12/06/05ca7e2f-92a3-44a4-b1b8-c60ca546990e/top-banner-x2.png?width=776&amp;height=204, https://resources.pulse.icc-cricket.com/photo-resources/2021/12/06/05ca7e2f-92a3-44a4-b1b8-c60ca546990e/top-banner-x2.png?width=1552&amp;height=408 2x\">\n",
       "<img alt=\"top-banner@x2\" class=\"mobile-banner__img\" src=\"https://resources.pulse.icc-cricket.com/photo-resources/2021/12/06/05ca7e2f-92a3-44a4-b1b8-c60ca546990e/top-banner-x2.png?width=776&amp;height=204\"/>\n",
       "</source></picture>\n",
       "</div>\n",
       "<div class=\"mobile-banner__image mobile-banner__image--tablet\">\n",
       "<picture class=\"mobile-banner__picture\">\n",
       "<source srcset=\"https://resources.pulse.icc-cricket.com/photo-resources/2021/12/06/5b3e6b5e-79fd-472b-b100-21d02579cdb9/top-banner-tablet-x2.png?width=300&amp;height=274, https://resources.pulse.icc-cricket.com/photo-resources/2021/12/06/5b3e6b5e-79fd-472b-b100-21d02579cdb9/top-banner-tablet-x2.png?width=600&amp;height=548 2x\">\n",
       "<img alt=\"top-banner-tablet@x2\" class=\"mobile-banner__img\" src=\"https://resources.pulse.icc-cricket.com/photo-resources/2021/12/06/5b3e6b5e-79fd-472b-b100-21d02579cdb9/top-banner-tablet-x2.png?width=300&amp;height=274\"/>\n",
       "</source></picture>\n",
       "</div>\n",
       "</div>\n",
       "<a class=\"mobile-banner__close js-mobile-banner-close\">\n",
       "<svg class=\"icon\"><use xlink:href=\"/resources/prod/v8.21.21/i/svg-output/icons.svg#icn-close\" xmlns:xlink=\"http://www.w3.org/1999/xlink\"></use></svg>\n",
       "</a>\n",
       "</div>\n",
       "<div class=\"global-header\">\n",
       "<ul class=\"global-header__list\">\n",
       "<li class=\"global-header__item\">\n",
       "<a class=\"global-header__link\" href=\"https://welcome.icc.tv/\"><svg class=\"icon tv\"><use xlink:href=\"/resources/prod/v8.21.21/i/svg-output/icons.svg#icn-tv\" xmlns:xlink=\"http://www.w3.org/1999/xlink\"></use></svg>ICC.TV</a>\n",
       "</li>\n",
       "<li class=\"global-header__item\">\n",
       "<a class=\"global-header__link\" href=\"https://shop.icc-cricket.com/\"><svg class=\"icon shopping-cart\"><use xlink:href=\"/resources/prod/v8.21.21/i/svg-output/icons.svg#icn-shopping-cart\" xmlns:xlink=\"http://www.w3.org/1999/xlink\"></use></svg>CWC22 Shop</a>\n",
       "</li>\n",
       "<li class=\"global-header__item\">\n",
       "<a class=\"global-header__link\" href=\"https://www.fancraze.com/icc\"><svg class=\"icon cricket-ball\"><use xlink:href=\"/resources/prod/v8.21.21/i/svg-output/icons.svg#icn-cricket-ball\" xmlns:xlink=\"http://www.w3.org/1999/xlink\"></use></svg>Crictos</a>\n",
       "</li>\n",
       "</ul>\n",
       "<ul class=\"global-header-social__list\">\n",
       "<li class=\"global-header-social__item\">\n",
       "<a class=\"global-header-social__link global-header-social__link--facebook-f\" href=\"https://www.facebook.com/icc/\" target=\"_blank\">\n",
       "<svg class=\"icon\"><use xlink:href=\"/resources/prod/v8.21.21/i/svg-output/icons.svg#icn-facebook-f\" xmlns:xlink=\"http://www.w3.org/1999/xlink\"></use></svg>\n",
       "</a>\n",
       "</li>\n",
       "<li class=\"global-header-social__item\">\n",
       "<a class=\"global-header-social__link global-header-social__link--twitter\" href=\"https://twitter.com/ICC\" target=\"_blank\">\n",
       "<svg class=\"icon\"><use xlink:href=\"/resources/prod/v8.21.21/i/svg-output/icons.svg#icn-twitter\" xmlns:xlink=\"http://www.w3.org/1999/xlink\"></use></svg>\n",
       "</a>\n",
       "</li>\n",
       "<li class=\"global-header-social__item\">\n",
       "<a class=\"global-header-social__link global-header-social__link--instagram\" href=\"https://www.instagram.com/icc/\" target=\"_blank\">\n",
       "<svg class=\"icon\"><use xlink:href=\"/resources/prod/v8.21.21/i/svg-output/icons.svg#icn-instagram\" xmlns:xlink=\"http://www.w3.org/1999/xlink\"></use></svg>\n",
       "</a>\n",
       "</li>\n",
       "<li class=\"global-header-social__item\">\n",
       "<a class=\"global-header-social__link global-header-social__link--youtube\" href=\"https://www.youtube.com/user/CricketICC\" target=\"_blank\">\n",
       "<svg class=\"icon\"><use xlink:href=\"/resources/prod/v8.21.21/i/svg-output/icons.svg#icn-youtube\" xmlns:xlink=\"http://www.w3.org/1999/xlink\"></use></svg>\n",
       "</a>\n",
       "</li>\n",
       "</ul>\n",
       "<div class=\"global-header__sso\" data-script=\"icc_global-header\" data-widget=\"user-login\">\n",
       "<a class=\"btn btn--account btn--icon js-nav-default is-transitioning\" href=\"/sign-in\">\n",
       "<svg class=\"icon\"><use xlink:href=\"/resources/prod/v8.21.21/i/svg-output/icons.svg#icn-account\" xmlns:xlink=\"http://www.w3.org/1999/xlink\"></use></svg>\n",
       "        Sign In / Create Account\n",
       "        <span class=\"btn__loading-bar\"></span>\n",
       "</a>\n",
       "<div class=\"global-header__sign-in js-nav-signedin u-hide\">\n",
       "<div class=\"global-header__user-message js-nav-user\" role=\"button\" tabindex=\"0\">\n",
       "<div class=\"global-header__image-container\">\n",
       "<img alt=\"User Image\" class=\"u-hide js-nav-user-img\" src=\"#\"/>\n",
       "</div>\n",
       "<div class=\"global-header__username\">Welcome back, <span class=\"js-nav-user-text\"></span></div>\n",
       "</div>\n",
       "<ul class=\"global-header__dropdown global-header__user-dropdown js-dropdown\">\n",
       "<li class=\"global-header__dropdown-item\"><a class=\"js-nav-account\" href=\"#\">Account</a></li>\n",
       "<li class=\"global-header__dropdown-item global-header__dropdown-item--signout\">\n",
       "<a class=\"js-nav-logout\" href=\"#\">Sign Out</a>\n",
       "<svg class=\"icon\"><use xlink:href=\"/resources/prod/v8.21.21/i/svg-output/icons.svg#icn-sign-out\" xmlns:xlink=\"http://www.w3.org/1999/xlink\"></use></svg>\n",
       "</li>\n",
       "</ul>\n",
       "</div>\n",
       "</div>\n",
       "</div>\n",
       "<div class=\"global-navigation\">\n",
       "<div class=\"global-navigation__default-bg\"></div>\n",
       "<div class=\"global-navigation__fixed-container\" data-script=\"icc_global-navigation\" data-widget=\"global-navigation\">\n",
       "<nav class=\"global-navigation__main js-global-navigation is-open\" data-active-class=\"is-fixed\" data-widget=\"scroll-boundary\">\n",
       "<a class=\"global-navigation__branding\" href=\"/home-page\">\n",
       "<div class=\"icn icn-logo-icc\"></div>\n",
       "</a>\n",
       "<div class=\"global-navigation__menu-button js-global-navigation-menu-button\" role=\"button\">\n",
       "<span class=\"global-navigation__menu-button-text global-navigation__menu-button-text--open\">Menu</span>\n",
       "<span class=\"global-navigation__menu-button-text global-navigation__menu-button-text--close\">Close</span>\n",
       "<div class=\"menu-button\">\n",
       "<div></div>\n",
       "<div></div>\n",
       "<div></div>\n",
       "</div>\n",
       "</div>\n",
       "<div class=\"global-navigation__container js-global-navigation-container\">\n",
       "<ul class=\"global-navigation__list\">\n",
       "<li class=\"global-navigation__item js-global-navigation-item #! global-navigation__item--home has-link\" tabindex=\"0\">\n",
       "<div class=\"global-navigation__link\" role=\"button\">\n",
       "<a href=\"/\">Home\n",
       "                </a>\n",
       "</div>\n",
       "</li>\n",
       "<li class=\"global-navigation__item js-global-navigation-item #! global-navigation__item--live has-drop-down\" tabindex=\"0\">\n",
       "<div class=\"global-navigation__link\" role=\"button\">\n",
       "\t\t         Live <svg class=\"icon\"><use xlink:href=\"/resources/prod/v8.21.21/i/svg-output/icons.svg#icn-chevron-down\" xmlns:xlink=\"http://www.w3.org/1999/xlink\"></use></svg>\n",
       "<span class=\"global-navigation__live-counter js-match-counter-nav\"></span>\n",
       "</div>\n",
       "<div class=\"global-navigation__drop-down\">\n",
       "<ul class=\"global-navigation__drop-down-list\">\n",
       "<li class=\"global-navigation__drop-down-item\"><a class=\"global-navigation__drop-down-link js-global-navigation-drop-down-link\" href=\"/live-cricket/live\">Live Scores</a></li>\n",
       "<li class=\"global-navigation__drop-down-item\"><a class=\"global-navigation__drop-down-link js-global-navigation-drop-down-link\" href=\"https://welcome.icc.tv/\">ICC.tv</a></li>\n",
       "<li class=\"global-navigation__drop-down-item\"><a class=\"global-navigation__drop-down-link js-global-navigation-drop-down-link\" href=\"/live-cricket/mens-results\">Men's Results</a></li>\n",
       "<li class=\"global-navigation__drop-down-item\"><a class=\"global-navigation__drop-down-link js-global-navigation-drop-down-link\" href=\"/live-cricket/womens-results\">Women's Results</a></li>\n",
       "</ul>\n",
       "</div>\n",
       "</li>\n",
       "<li class=\"global-navigation__item js-global-navigation-item #! has-drop-down\" tabindex=\"0\">\n",
       "<div class=\"global-navigation__link\" role=\"button\">\n",
       "\t\t         Fixtures <svg class=\"icon\"><use xlink:href=\"/resources/prod/v8.21.21/i/svg-output/icons.svg#icn-chevron-down\" xmlns:xlink=\"http://www.w3.org/1999/xlink\"></use></svg>\n",
       "</div>\n",
       "<div class=\"global-navigation__drop-down\">\n",
       "<ul class=\"global-navigation__drop-down-list\">\n",
       "<li class=\"global-navigation__drop-down-item\"><a class=\"global-navigation__drop-down-link js-global-navigation-drop-down-link\" href=\"/mens-schedule/list\">Men's Fixtures</a></li>\n",
       "<li class=\"global-navigation__drop-down-item\"><a class=\"global-navigation__drop-down-link js-global-navigation-drop-down-link\" href=\"/womens-schedule/list\">Women's Fixtures</a></li>\n",
       "</ul>\n",
       "</div>\n",
       "</li>\n",
       "<li class=\"global-navigation__item js-global-navigation-item #! has-drop-down\" tabindex=\"0\">\n",
       "<div class=\"global-navigation__link\" role=\"button\">\n",
       "\t\t         ICC Events <svg class=\"icon\"><use xlink:href=\"/resources/prod/v8.21.21/i/svg-output/icons.svg#icn-chevron-down\" xmlns:xlink=\"http://www.w3.org/1999/xlink\"></use></svg>\n",
       "</div>\n",
       "<div class=\"global-navigation__drop-down\">\n",
       "<ul class=\"global-navigation__drop-down-list\">\n",
       "<li class=\"global-navigation__drop-down-item\"><a class=\"global-navigation__drop-down-link js-global-navigation-drop-down-link\" href=\"https://www.cricketworldcup.com/\">ICC Cricket World Cup</a></li>\n",
       "<li class=\"global-navigation__drop-down-item\"><a class=\"global-navigation__drop-down-link js-global-navigation-drop-down-link\" href=\"https://www.t20worldcup.com\">ICC T20 World Cup</a></li>\n",
       "<li class=\"global-navigation__drop-down-item\"><a class=\"global-navigation__drop-down-link js-global-navigation-drop-down-link\" href=\"/u19-world-cup/\">ICC U19 Cricket World Cup</a></li>\n",
       "<li class=\"global-navigation__drop-down-item\"><a class=\"global-navigation__drop-down-link js-global-navigation-drop-down-link\" href=\"/world-test-championship\">ICC World Test Championship</a></li>\n",
       "<li class=\"global-navigation__drop-down-item\"><a class=\"global-navigation__drop-down-link js-global-navigation-drop-down-link\" href=\"/champions-trophy\">ICC Champions Trophy</a></li>\n",
       "<li class=\"global-navigation__drop-down-item\"><a class=\"global-navigation__drop-down-link js-global-navigation-drop-down-link\" href=\"/cricket-world-cup-super-league/fixtures\">ICC Men's Cricket World Cup Super League</a></li>\n",
       "<li class=\"global-navigation__drop-down-item\"><a class=\"global-navigation__drop-down-link js-global-navigation-drop-down-link\" href=\"/cricket-world-cup-challenge-league/news\">ICC Men's Cricket World Cup Challenge League</a></li>\n",
       "<li class=\"global-navigation__drop-down-item\"><a class=\"global-navigation__drop-down-link js-global-navigation-drop-down-link\" href=\"/cricket-world-cup-league-two/news\">ICC Men's Cricket World Cup League 2</a></li>\n",
       "<li class=\"global-navigation__drop-down-item\"><a class=\"global-navigation__drop-down-link js-global-navigation-drop-down-link\" href=\"/womens-championship\">ICC Women's Championship</a></li>\n",
       "<li class=\"global-navigation__drop-down-item\"><a class=\"global-navigation__drop-down-link js-global-navigation-drop-down-link\" href=\"/event-status\">2021 Event status</a></li>\n",
       "</ul>\n",
       "</div>\n",
       "</li>\n",
       "<li class=\"global-navigation__item js-global-navigation-item #! has-drop-down\" tabindex=\"0\">\n",
       "<div class=\"global-navigation__link\" role=\"button\">\n",
       "\t\t         Rankings <svg class=\"icon\"><use xlink:href=\"/resources/prod/v8.21.21/i/svg-output/icons.svg#icn-chevron-down\" xmlns:xlink=\"http://www.w3.org/1999/xlink\"></use></svg>\n",
       "</div>\n",
       "<div class=\"global-navigation__drop-down global-navigation__drop-down--2-column\">\n",
       "<div class=\"global-navigation__drop-down-column\">\n",
       "<div class=\"global-navigation__drop-down-title\">Men's Rankings</div>\n",
       "<ul class=\"global-navigation__drop-down-list\">\n",
       "<li class=\"global-navigation__drop-down-item\"><a class=\"global-navigation__drop-down-link js-global-navigation-drop-down-link\" href=\"/rankings/mens/overview\">Overview</a></li>\n",
       "<li class=\"global-navigation__drop-down-item\"><a class=\"global-navigation__drop-down-link js-global-navigation-drop-down-link\" href=\"/rankings/mens/team-rankings\">Team Rankings</a></li>\n",
       "<li class=\"global-navigation__drop-down-item\"><a class=\"global-navigation__drop-down-link js-global-navigation-drop-down-link\" href=\"/rankings/mens/player-rankings\">Players Rankings</a></li>\n",
       "<li class=\"global-navigation__drop-down-item\"><a class=\"global-navigation__drop-down-link js-global-navigation-drop-down-link\" href=\"/rankings/mens/player-rankings/comparison\">Player Comparison</a></li>\n",
       "<li class=\"global-navigation__drop-down-item\"><a class=\"global-navigation__drop-down-link js-global-navigation-drop-down-link\" href=\"/rankings/mens/rankings-predictor/test\">Team Rankings Predictor</a></li>\n",
       "<li class=\"global-navigation__drop-down-item\"><a class=\"global-navigation__drop-down-link js-global-navigation-drop-down-link\" href=\"/rankings/about\">About the Rankings</a></li>\n",
       "<li class=\"global-navigation__drop-down-item\"><a class=\"global-navigation__drop-down-link js-global-navigation-drop-down-link\" href=\"/rankings/faqs\">Rankings FAQ</a></li>\n",
       "</ul>\n",
       "</div>\n",
       "<div class=\"global-navigation__drop-down-column\">\n",
       "<div class=\"global-navigation__drop-down-title\">Women's Rankings</div>\n",
       "<ul class=\"global-navigation__drop-down-list\">\n",
       "<li class=\"global-navigation__drop-down-item\"><a class=\"global-navigation__drop-down-link js-global-navigation-drop-down-link\" href=\"/rankings/womens/overview\">Overview</a></li>\n",
       "<li class=\"global-navigation__drop-down-item\"><a class=\"global-navigation__drop-down-link js-global-navigation-drop-down-link\" href=\"/rankings/womens/team-rankings\">Team Rankings</a></li>\n",
       "<li class=\"global-navigation__drop-down-item\"><a class=\"global-navigation__drop-down-link js-global-navigation-drop-down-link\" href=\"/rankings/womens/player-rankings\">Player Rankings</a></li>\n",
       "</ul>\n",
       "</div>\n",
       "</div>\n",
       "</li>\n",
       "<li class=\"global-navigation__item js-global-navigation-item #! has-drop-down\" tabindex=\"0\">\n",
       "<div class=\"global-navigation__link\" role=\"button\">\n",
       "\t\t         Teams <svg class=\"icon\"><use xlink:href=\"/resources/prod/v8.21.21/i/svg-output/icons.svg#icn-chevron-down\" xmlns:xlink=\"http://www.w3.org/1999/xlink\"></use></svg>\n",
       "</div>\n",
       "<div class=\"global-navigation__drop-down\">\n",
       "<ul class=\"global-navigation__drop-down-list\">\n",
       "<li class=\"global-navigation__drop-down-item\"><a class=\"global-navigation__drop-down-link js-global-navigation-drop-down-link\" href=\"https://www.icc-cricket.com/teams/men\">Men</a></li>\n",
       "<li class=\"global-navigation__drop-down-item\"><a class=\"global-navigation__drop-down-link js-global-navigation-drop-down-link\" href=\"https://www.icc-cricket.com/teams/women\">Women</a></li>\n",
       "<li class=\"global-navigation__drop-down-item\"><a class=\"global-navigation__drop-down-link js-global-navigation-drop-down-link\" href=\"https://www.icc-cricket.com/teams/u19\">U19</a></li>\n",
       "</ul>\n",
       "</div>\n",
       "</li>\n",
       "<li class=\"global-navigation__item js-global-navigation-item #! has-drop-down\" tabindex=\"0\">\n",
       "<div class=\"global-navigation__link\" role=\"button\">\n",
       "\t\t         Video <svg class=\"icon\"><use xlink:href=\"/resources/prod/v8.21.21/i/svg-output/icons.svg#icn-chevron-down\" xmlns:xlink=\"http://www.w3.org/1999/xlink\"></use></svg>\n",
       "</div>\n",
       "<div class=\"global-navigation__drop-down\">\n",
       "<ul class=\"global-navigation__drop-down-list\">\n",
       "<li class=\"global-navigation__drop-down-item\"><a class=\"global-navigation__drop-down-link js-global-navigation-drop-down-link\" href=\"/video\">Video Home</a></li>\n",
       "<li class=\"global-navigation__drop-down-item\"><a class=\"global-navigation__drop-down-link js-global-navigation-drop-down-link\" href=\"/video/vault\">ICC Vault</a></li>\n",
       "<li class=\"global-navigation__drop-down-item\"><a class=\"global-navigation__drop-down-link js-global-navigation-drop-down-link\" href=\"/video/cricket-360\">ICC Cricket 360°</a></li>\n",
       "<li class=\"global-navigation__drop-down-item\"><a class=\"global-navigation__drop-down-link js-global-navigation-drop-down-link\" href=\"/video/what-is-cricket\">What is Cricket?</a></li>\n",
       "</ul>\n",
       "</div>\n",
       "</li>\n",
       "<li class=\"global-navigation__item js-global-navigation-item #! has-drop-down\" tabindex=\"0\">\n",
       "<div class=\"global-navigation__link\" role=\"button\">\n",
       "\t\t         More <svg class=\"icon\"><use xlink:href=\"/resources/prod/v8.21.21/i/svg-output/icons.svg#icn-chevron-down\" xmlns:xlink=\"http://www.w3.org/1999/xlink\"></use></svg>\n",
       "</div>\n",
       "<div class=\"global-navigation__drop-down\">\n",
       "<ul class=\"global-navigation__drop-down-list\">\n",
       "<li class=\"global-navigation__drop-down-item global-nav__item--divider\"><a class=\"global-navigation__drop-down-link js-global-navigation-drop-down-link\" href=\"https://www.icc-cricket.com/about\">About ICC</a></li>\n",
       "<li class=\"global-navigation__drop-down-item\"><a class=\"global-navigation__drop-down-link js-global-navigation-drop-down-link\" href=\"https://www.fancraze.com/icc\">Crictos</a></li>\n",
       "<li class=\"global-navigation__drop-down-item\"><a class=\"global-navigation__drop-down-link js-global-navigation-drop-down-link\" href=\"https://shop.icc-cricket.com/\">CWC22 Shop</a></li>\n",
       "<li class=\"global-navigation__drop-down-item\"><a class=\"global-navigation__drop-down-link js-global-navigation-drop-down-link\" href=\"/awards/overview\">Awards</a></li>\n",
       "<li class=\"global-navigation__drop-down-item\"><a class=\"global-navigation__drop-down-link js-global-navigation-drop-down-link\" href=\"/hall-of-fame\">Hall of Fame</a></li>\n",
       "<li class=\"global-navigation__drop-down-item\"><a class=\"global-navigation__drop-down-link js-global-navigation-drop-down-link\" href=\"/social\">ICC on Social</a></li>\n",
       "<li class=\"global-navigation__drop-down-item\"><a class=\"global-navigation__drop-down-link js-global-navigation-drop-down-link\" href=\"/media-releases\">Media Releases</a></li>\n",
       "<li class=\"global-navigation__drop-down-item\"><a class=\"global-navigation__drop-down-link js-global-navigation-drop-down-link\" href=\"/news\">News</a></li>\n",
       "<li class=\"global-navigation__drop-down-item\"><a class=\"global-navigation__drop-down-link js-global-navigation-drop-down-link\" href=\"/photos\">Photos</a></li>\n",
       "<li class=\"global-navigation__drop-down-item\"><a class=\"global-navigation__drop-down-link js-global-navigation-drop-down-link\" href=\"/cricket-for-good\">Cricket for Good</a></li>\n",
       "<li class=\"global-navigation__drop-down-item\"><a class=\"global-navigation__drop-down-link js-global-navigation-drop-down-link\" href=\"/mobile\">Mobile App</a></li>\n",
       "<li class=\"global-navigation__drop-down-item\"><a class=\"global-navigation__drop-down-link js-global-navigation-drop-down-link\" href=\"/news/318971\">Commercial Opportunities</a></li>\n",
       "<li class=\"global-navigation__drop-down-item\"><a class=\"global-navigation__drop-down-link js-global-navigation-drop-down-link\" href=\"/criiio/\">criiio</a></li>\n",
       "<li class=\"global-navigation__drop-down-item\"><a class=\"global-navigation__drop-down-link js-global-navigation-drop-down-link\" href=\"/100percentcricket\">100% Cricket</a></li>\n",
       "</ul>\n",
       "</div>\n",
       "</li>\n",
       "</ul>\n",
       "<div class=\"global-navigation-menu\">\n",
       "<ul class=\"global-navigation-menu__list\">\n",
       "<li class=\"global-navigation-menu__item\">\n",
       "<a class=\"global-navigation-menu__link\" href=\"https://welcome.icc.tv/\">\n",
       "<svg class=\"icon tv\"><use xlink:href=\"/resources/prod/v8.21.21/i/svg-output/icons.svg#icn-tv\" xmlns:xlink=\"http://www.w3.org/1999/xlink\"></use></svg>\n",
       "\t\t\t\t\t\t\tICC.TV\n",
       "\t\t\t\t\t\t</a>\n",
       "</li>\n",
       "<li class=\"global-navigation-menu__item\">\n",
       "<a class=\"global-navigation-menu__link\" href=\"https://shop.icc-cricket.com/\">\n",
       "<svg class=\"icon shopping-cart\"><use xlink:href=\"/resources/prod/v8.21.21/i/svg-output/icons.svg#icn-shopping-cart\" xmlns:xlink=\"http://www.w3.org/1999/xlink\"></use></svg>\n",
       "\t\t\t\t\t\t\tCWC22 Shop\n",
       "\t\t\t\t\t\t</a>\n",
       "</li>\n",
       "<li class=\"global-navigation-menu__item\">\n",
       "<a class=\"global-navigation-menu__link\" href=\"https://www.fancraze.com/icc\">\n",
       "<svg class=\"icon cricket-ball\"><use xlink:href=\"/resources/prod/v8.21.21/i/svg-output/icons.svg#icn-cricket-ball\" xmlns:xlink=\"http://www.w3.org/1999/xlink\"></use></svg>\n",
       "\t\t\t\t\t\t\tCrictos\n",
       "\t\t\t\t\t\t</a>\n",
       "</li>\n",
       "<li class=\"global-navigation-menu__item global-navigation-menu__item--user js-nav-default-mobile\">\n",
       "<a class=\"global-navigation-menu__link\" href=\"/sign-in\">\n",
       "<svg class=\"icon\"><use xlink:href=\"/resources/prod/v8.21.21/i/svg-output/icons.svg#icn-account\" xmlns:xlink=\"http://www.w3.org/1999/xlink\"></use></svg>\n",
       "                    Sign In/Create Account\n",
       "                </a>\n",
       "</li>\n",
       "<li class=\"global-navigation-menu__item global-navigation-menu__item--user js-nav-signedin-mobile u-hide\">\n",
       "<a class=\"global-navigation-menu__link\" href=\"#\">\n",
       "<div class=\"global-navigation-menu__image-container\">\n",
       "<img alt=\"User Image\" class=\"u-hide js-nav-user-img-mobile\" src=\"#\"/>\n",
       "</div>\n",
       "<div class=\"global-navigation-menu__username\">Hi <span class=\"js-nav-user-text-mobile\"></span></div>\n",
       "</a>\n",
       "</li>\n",
       "</ul>\n",
       "</div>\n",
       "</div>\n",
       "<div class=\"global-navigation__search js-global-navigation-search\" role=\"button\" tabindex=\"0\">\n",
       "<svg class=\"global-navigation__search-icon icon\"><use xlink:href=\"/resources/prod/v8.21.21/i/svg-output/icons.svg#icn-search\" xmlns:xlink=\"http://www.w3.org/1999/xlink\"></use></svg>\n",
       "<span class=\"global-navigation__search-text\">Search</span>\n",
       "</div>\n",
       "<a class=\"global-navigation__user js-nav-default-mobile\" href=\"/sign-in\" role=\"button\">\n",
       "<svg class=\"icon\"><use xlink:href=\"/resources/prod/v8.21.21/i/svg-output/icons.svg#icn-account\" xmlns:xlink=\"http://www.w3.org/1999/xlink\"></use></svg>\n",
       "</a>\n",
       "<a class=\"global-navigation__user js-nav-signedin-mobile u-hide\" href=\"#\" role=\"button\">\n",
       "<div class=\"global-navigation__image-container\">\n",
       "<img alt=\"User Image\" class=\"u-hide js-nav-user-img-mobile\" src=\"#\"/>\n",
       "</div>\n",
       "</a>\n",
       "<form action=\"/search\" class=\"global-navigation__search-open js-global-navigation-search-open\" type=\"GET\">\n",
       "<div class=\"global-navigation__search-input\">\n",
       "<input class=\"js-global-navigation-input\" name=\"term\" placeholder=\"Search ICC\" tabindex=\"-1\" type=\"text\"/>\n",
       "</div>\n",
       "<button class=\"global-navigation__search-go js-global-navigation-search-go\" tabindex=\"0\" type=\"submit\">\n",
       "<svg class=\"icon\"><use xlink:href=\"/resources/prod/v8.21.21/i/svg-output/icons.svg#icn-search\" xmlns:xlink=\"http://www.w3.org/1999/xlink\"></use></svg>\n",
       "</button>\n",
       "<div class=\"global-navigation__search-close js-global-navigation-search-close\" tabindex=\"0\">\n",
       "<svg class=\"icon\"><use xlink:href=\"/resources/prod/v8.21.21/i/svg-output/icons.svg#icn-close\" xmlns:xlink=\"http://www.w3.org/1999/xlink\"></use></svg>\n",
       "</div>\n",
       "</form>\n",
       "<div class=\"global-navigation__search-overlay\"></div>\n",
       "</nav>\n",
       "</div>\n",
       "</div>\n",
       "<main id=\"main-content\" tabindex=\"0\">\n",
       "<button class=\"scroll-to-top\" data-script=\"icc_scroll-to-top\" data-widget=\"scroll-to-top\">\n",
       "<svg class=\"scroll-to-top__icon\">\n",
       "<use xlink:href=\"/resources/prod/v8.21.21/i/svg-output/icons.svg#icn-up-arrow\" xmlns:xlink=\"http://www.w3.org/1999/xlink\"></use>\n",
       "</svg>\n",
       "<div aria-hidden=\"true\" class=\"scroll-to-top__mask\">\n",
       "<svg class=\"scroll-to-top__icon\">\n",
       "<use xlink:href=\"/resources/prod/v8.21.21/i/svg-output/icons.svg#icn-up-arrow\" xmlns:xlink=\"http://www.w3.org/1999/xlink\"></use>\n",
       "</svg>\n",
       "</div>\n",
       "<span class=\"u-screen-reader\">Scroll to Top</span>\n",
       "</button>\n",
       "<header class=\"page-header page-header--rankings\">\n",
       "<div class=\"wrapper\">\n",
       "<div class=\"col-12\">\n",
       "<div class=\"page-header__banner\">\n",
       "<a class=\"page-logo\" data-tracking-url=\"https://track.adform.net/adfserve/?bn=20093364;srctype=4;ord=%%ADFRND%%\" data-widget=\"impression-tracker\" href=\"http://track.adform.net/C/?bn=20093364\" target=\"_blank\">\n",
       "<span class=\"icn icn-logo-mrf-rankings\"></span>\n",
       "</a>\n",
       "</div>\n",
       "<div class=\"share share-- share--vertical\" data-widget=\"share\">\n",
       "<div class=\"share__container\">\n",
       "<div class=\"share__btn js-share-btn\">\n",
       "<svg class=\"icon\"><use xlink:href=\"/resources/prod/v8.21.21/i/svg-output/icons.svg#icn-share\" xmlns:xlink=\"http://www.w3.org/1999/xlink\"></use></svg>\n",
       "<div class=\"share__title\">Share</div>\n",
       "</div>\n",
       "<ul class=\"share__list\">\n",
       "<li class=\"share__item share__item--facebook js-social-option\" data-social-service=\"facebook\" role=\"button\" tabindex=\"0\">\n",
       "<svg class=\"icon\"><use xlink:href=\"/resources/prod/v8.21.21/i/svg-output/icons.svg#icn-facebook\" xmlns:xlink=\"http://www.w3.org/1999/xlink\"></use></svg>\n",
       "</li>\n",
       "<li class=\"share__item share__item--twitter js-social-option\" data-social-service=\"twitter\" role=\"button\" tabindex=\"0\">\n",
       "<svg class=\"icon\"><use xlink:href=\"/resources/prod/v8.21.21/i/svg-output/icons.svg#icn-twitter\" xmlns:xlink=\"http://www.w3.org/1999/xlink\"></use></svg>\n",
       "</li>\n",
       "<li class=\"share__item share__item--messenger u-show-tablet js-social-option\" data-social-service=\"facebookMessenger\" role=\"buttn\" tabindex=\"0\">\n",
       "<svg class=\"icon\"><use xlink:href=\"/resources/prod/v8.21.21/i/svg-output/icons.svg#icn-facebook-messenger\" xmlns:xlink=\"http://www.w3.org/1999/xlink\"></use></svg>\n",
       "</li>\n",
       "<li class=\"share__item share__item--whatsapp u-show-tablet js-social-option\" data-social-service=\"whatsapp\" role=\"button\" tabindex=\"0\">\n",
       "<svg class=\"icon\"><use xlink:href=\"/resources/prod/v8.21.21/i/svg-output/icons.svg#icn-whatsapp\" xmlns:xlink=\"http://www.w3.org/1999/xlink\"></use></svg>\n",
       "</li>\n",
       "<li class=\"share__item share__item--url u-hide-tablet js-copy-button\" role=\"button\" tabindex=\"0\">\n",
       "<svg class=\"icon\"><use xlink:href=\"/resources/prod/v8.21.21/i/svg-output/icons.svg#icn-url\" xmlns:xlink=\"http://www.w3.org/1999/xlink\"></use></svg>\n",
       "<div class=\"share__copy-message js-copy-message\">URL Copied</div>\n",
       "</li>\n",
       "</ul>\n",
       "</div>\n",
       "</div>\n",
       "</div>\n",
       "</div>\n",
       "</header>\n",
       "<div class=\"l-sticky-side-nav\">\n",
       "<div class=\"l-sticky-side-nav__nav\">\n",
       "<div class=\"rankings-menu\" data-script=\"icc_rankings-menu\" data-widget=\"rankings-menu\">\n",
       "<div class=\"drop-down-tablet js-drop-down\">\n",
       "<div class=\"drop-down__clickzone js-drop-down-trigger\" role=\"button\" tabindex=\"0\"></div>\n",
       "<div class=\"drop-down__label\">\n",
       "            Men's\n",
       "        </div>\n",
       "<div class=\"drop-down__current\">\n",
       "            Team Rankings\n",
       "            <svg class=\"icon\"><use xlink:href=\"/resources/prod/v8.21.21/i/svg-output/icons.svg#icn-caret-down\" xmlns:xlink=\"http://www.w3.org/1999/xlink\"></use></svg>\n",
       "</div>\n",
       "<div class=\"drop-down__dropdown-list js-drop-down-options\">\n",
       "<div class=\"rankings-menu__tab-container u-hide-tablet\">\n",
       "<nav class=\"content-tabs\">\n",
       "<ul class=\"block-list-2 u-no-font-size\" role=\"tablist\">\n",
       "<li class=\"u-no-padding u-no-margin\">\n",
       "<a class=\"content-tabs__tab content-tabs__tab--active\" href=\"/rankings/mens/overview\">Men's</a>\n",
       "</li>\n",
       "<li class=\"u-no-padding u-no-margin\">\n",
       "<a class=\"content-tabs__tab\" href=\"/rankings/womens/overview\">Women's</a>\n",
       "</li>\n",
       "</ul>\n",
       "</nav>\n",
       "</div>\n",
       "<div class=\"active tab-content\">\n",
       "<h3 class=\"rankings-menu__title\">Men's</h3>\n",
       "<ul class=\"rankings-menu__list\">\n",
       "<li class=\"rankings-menu__item rankings-menu__item--user-selection js-team-btn\">\n",
       "<a class=\"rankings-menu__link js-fav-team-link\" href=\"#\">Select your team</a>\n",
       "<svg class=\"icon\"><use xlink:href=\"/resources/prod/v8.21.21/i/svg-output/icons.svg#icn-chevron-right\" xmlns:xlink=\"http://www.w3.org/1999/xlink\"></use></svg>\n",
       "<div class=\"rankings-menu__notch js-notch\"></div>\n",
       "<svg class=\"rankings-menu__notch-icon icon\"><use xlink:href=\"/resources/prod/v8.21.21/i/svg-output/icons.svg#icn-star\" xmlns:xlink=\"http://www.w3.org/1999/xlink\"></use></svg>\n",
       "</li><li class=\"rankings-menu__item\">\n",
       "<a class=\"rankings-menu__link\" href=\"/rankings/mens/overview\">Overview<svg class=\"icon\"><use xlink:href=\"/resources/prod/v8.21.21/i/svg-output/icons.svg#icn-chevron-right\" xmlns:xlink=\"http://www.w3.org/1999/xlink\"></use></svg></a>\n",
       "</li>\n",
       "<li class=\"rankings-menu__item\">\n",
       "<a class=\"rankings-menu__link\" href=\"/rankings/mens/team-rankings\">Team Rankings<svg class=\"icon\"><use xlink:href=\"/resources/prod/v8.21.21/i/svg-output/icons.svg#icn-chevron-right\" xmlns:xlink=\"http://www.w3.org/1999/xlink\"></use></svg></a>\n",
       "</li>\n",
       "<li class=\"rankings-menu__item\">\n",
       "<a class=\"rankings-menu__link\" href=\"/rankings/mens/player-rankings\">Player Rankings<svg class=\"icon\"><use xlink:href=\"/resources/prod/v8.21.21/i/svg-output/icons.svg#icn-chevron-right\" xmlns:xlink=\"http://www.w3.org/1999/xlink\"></use></svg></a>\n",
       "</li>\n",
       "<li class=\"rankings-menu__item\">\n",
       "<a class=\"rankings-menu__link\" href=\"/rankings/mens/player-rankings/comparison\">Player Comparison<svg class=\"icon\"><use xlink:href=\"/resources/prod/v8.21.21/i/svg-output/icons.svg#icn-chevron-right\" xmlns:xlink=\"http://www.w3.org/1999/xlink\"></use></svg></a>\n",
       "</li>\n",
       "<li class=\"rankings-menu__item\">\n",
       "<a class=\"rankings-menu__link\" href=\"/rankings/mens/rankings-predictor/\">Team Rankings Predictor<svg class=\"icon\"><use xlink:href=\"/resources/prod/v8.21.21/i/svg-output/icons.svg#icn-chevron-right\" xmlns:xlink=\"http://www.w3.org/1999/xlink\"></use></svg></a>\n",
       "</li>\n",
       "<li class=\"rankings-menu__item\">\n",
       "<a class=\"rankings-menu__link\" href=\"/rankings/about\">About the Rankings<svg class=\"icon\"><use xlink:href=\"/resources/prod/v8.21.21/i/svg-output/icons.svg#icn-chevron-right\" xmlns:xlink=\"http://www.w3.org/1999/xlink\"></use></svg></a>\n",
       "</li>\n",
       "<li class=\"rankings-menu__item\">\n",
       "<a class=\"rankings-menu__link\" href=\"/rankings/faqs\">Player Rankings FAQs<svg class=\"icon\"><use xlink:href=\"/resources/prod/v8.21.21/i/svg-output/icons.svg#icn-chevron-right\" xmlns:xlink=\"http://www.w3.org/1999/xlink\"></use></svg></a>\n",
       "</li>\n",
       "</ul>\n",
       "</div>\n",
       "<div class=\"tab-content\">\n",
       "<h3 class=\"rankings-menu__title\">Women's</h3>\n",
       "<ul class=\"rankings-menu__list\">\n",
       "<li class=\"rankings-menu__item\">\n",
       "<a class=\"rankings-menu__link\" href=\"/rankings/womens/overview\">Overview<svg class=\"icon\"><use xlink:href=\"/resources/prod/v8.21.21/i/svg-output/icons.svg#icn-chevron-right\" xmlns:xlink=\"http://www.w3.org/1999/xlink\"></use></svg></a>\n",
       "</li>\n",
       "<li class=\"rankings-menu__item\">\n",
       "<a class=\"rankings-menu__link\" href=\"/rankings/womens/team-rankings\">Team Rankings<svg class=\"icon\"><use xlink:href=\"/resources/prod/v8.21.21/i/svg-output/icons.svg#icn-chevron-right\" xmlns:xlink=\"http://www.w3.org/1999/xlink\"></use></svg></a>\n",
       "</li>\n",
       "<li class=\"rankings-menu__item\">\n",
       "<a class=\"rankings-menu__link\" href=\"/rankings/womens/player-rankings\">Player Rankings<svg class=\"icon\"><use xlink:href=\"/resources/prod/v8.21.21/i/svg-output/icons.svg#icn-chevron-right\" xmlns:xlink=\"http://www.w3.org/1999/xlink\"></use></svg></a>\n",
       "</li>\n",
       "<li class=\"rankings-menu__item\">\n",
       "<a class=\"rankings-menu__link\" href=\"/rankings/about\">About the Rankings<svg class=\"icon\"><use xlink:href=\"/resources/prod/v8.21.21/i/svg-output/icons.svg#icn-chevron-right\" xmlns:xlink=\"http://www.w3.org/1999/xlink\"></use></svg></a>\n",
       "</li>\n",
       "<li class=\"rankings-menu__item\">\n",
       "<a class=\"rankings-menu__link\" href=\"/rankings/faqs\">Player Rankings FAQs<svg class=\"icon\"><use xlink:href=\"/resources/prod/v8.21.21/i/svg-output/icons.svg#icn-chevron-right\" xmlns:xlink=\"http://www.w3.org/1999/xlink\"></use></svg></a>\n",
       "</li>\n",
       "<li class=\"rankings-menu__item\">\n",
       "<a class=\"rankings-menu__link\" href=\"/rankings/womens-t20i-faq\">T20I Team Rankings FAQs<svg class=\"icon\"><use xlink:href=\"/resources/prod/v8.21.21/i/svg-output/icons.svg#icn-chevron-right\" xmlns:xlink=\"http://www.w3.org/1999/xlink\"></use></svg></a>\n",
       "</li>\n",
       "</ul>\n",
       "</div>\n",
       "</div>\n",
       "</div>\n",
       "</div>\n",
       "</div>\n",
       "<div class=\"l-sticky-side-nav__content\">\n",
       "<section class=\"ranking-format-menu\">\n",
       "<div class=\"wrapper wrapper--sticky\">\n",
       "<div class=\"col-12\">\n",
       "<div class=\"content-tabs\">\n",
       "<ul class=\"inline-list\">\n",
       "<li class=\"ranking-format-menu__item\">\n",
       "<a class=\"content-tabs__tab\" href=\"test\">Test</a>\n",
       "</li>\n",
       "<li class=\"ranking-format-menu__item\">\n",
       "<a class=\"content-tabs__tab content-tabs__tab--active\" href=\"odi\">ODI</a>\n",
       "</li>\n",
       "<li class=\"ranking-format-menu__item\">\n",
       "<a class=\"content-tabs__tab\" href=\"t20i\">T20I</a>\n",
       "</li>\n",
       "</ul>\n",
       "</div>\n",
       "</div>\n",
       "</div>\n",
       "</section>\n",
       "<div class=\"wrapper wrapper--sticky\">\n",
       "<div class=\"col-12\">\n",
       "<div class=\"gam-ad-embed u-hide-phablet\">\n",
       "<div class=\"gam-ad-embed__container\">\n",
       "<script>\n",
       "  window.googletag = window.googletag || {cmd: []};\n",
       "  googletag.cmd.push(function() {\n",
       "  googletag.defineSlot('/182539303/ICC_Live_TeamODIRankings_Web_728x90', [728, 90], 'div-gpt-ad-1631699481989-0').addService(googletag.pubads());\n",
       "  googletag.pubads().enableSingleRequest();\n",
       "  googletag.pubads().collapseEmptyDivs();\n",
       "  googletag.enableServices();\n",
       "  });\n",
       " </script>\n",
       "<!-- /182539303/ICC_Live_TeamODIRankings_Web_728x90 -->\n",
       "<div id=\"div-gpt-ad-1631699481989-0\" style=\"min-width: 728px; min-height: 90px;\">\n",
       "<script>\n",
       "  googletag.cmd.push(function() { googletag.display('div-gpt-ad-1631699481989-0'); });\n",
       "  </script>\n",
       "</div>\n",
       "</div>\n",
       "</div>\n",
       "<div class=\"gam-ad-embed u-show-phablet\">\n",
       "<div class=\"gam-ad-embed__container\">\n",
       "<script>\n",
       "  window.googletag = window.googletag || {cmd: []};\n",
       "  googletag.cmd.push(function() {\n",
       "  googletag.defineSlot('/182539303/ICC_Live_TeamODIRankings_Mobile_320x50', [320, 50], 'div-gpt-ad-1631699775893-0').addService(googletag.pubads());\n",
       "  googletag.pubads().enableSingleRequest();\n",
       "  googletag.pubads().collapseEmptyDivs();\n",
       "  googletag.enableServices();\n",
       "  });\n",
       " </script>\n",
       "<!-- /182539303/ICC_Live_TeamODIRankings_Mobile_320x50 -->\n",
       "<div id=\"div-gpt-ad-1631699775893-0\" style=\"min-width: 320px; min-height: 50px;\">\n",
       "<script>\n",
       "  googletag.cmd.push(function() { googletag.display('div-gpt-ad-1631699775893-0'); });\n",
       "  </script>\n",
       "</div>\n",
       "</div>\n",
       "</div>\n",
       "<div class=\"content-ad content-ad--rankings u-center\">\n",
       "<!-- Adform publisher tag -->\n",
       "<!-- Generic Banner - Homepage (mobile 320x50) placement -->\n",
       "<div class=\"content-ad--mobile\">\n",
       "<script data-adfscript=\"adx.adform.net/adx/?mid=653000\"></script> <script async=\"\" defer=\"\" src=\"//s1.adform.net/banners/scripts/adx.js\"></script>\n",
       "</div>\n",
       "<!-- Adform publisher tag -->\n",
       "<!-- Generic Banner - Homepage (desktop 728x90) placement -->\n",
       "<div class=\"content-ad--desktop\">\n",
       "<script data-adfscript=\"adx.adform.net/adx/?mid=652998\"></script> <script async=\"\" defer=\"\" src=\"//s1.adform.net/banners/scripts/adx.js\"></script>\n",
       "</div>\n",
       "</div>\n",
       "<section class=\"widget rankings-widget\" data-script=\"icc_rankings\" data-widget=\"full-team-rankings\">\n",
       "<div class=\"rankings-block__title-container\">\n",
       "<div class=\"rankings-block__type t-odi\">odi</div>\n",
       "<h4>Men's ODI Team Rankings</h4>\n",
       "</div>\n",
       "<div class=\"rankings-block__meta-container\">\n",
       "<div class=\"rankings-table__last-updated\">Last updated (GMT) - 16 Apr 2022</div>\n",
       "<div class=\"rankings-table__last-updated\">Developed by David Kendix</div>\n",
       "</div>\n",
       "<div class=\"rankings-block__container full rankings-table\">\n",
       "<table class=\"table\">\n",
       "<thead>\n",
       "<tr class=\"table-head\">\n",
       "<th class=\"table-head__cell u-text-right\">Pos</th>\n",
       "<th class=\"table-head__cell rankings-table__team\">\n",
       "<span class=\"u-hide-mobile\">Team</span>\n",
       "<span class=\"u-show-mobile\">T</span>\n",
       "</th>\n",
       "<th class=\"table-head__cell u-center-text\">\n",
       "<span class=\"u-hide-mobile\">Matches</span>\n",
       "<span class=\"u-show-mobile\">M</span>\n",
       "</th>\n",
       "<th class=\"table-head__cell u-center-text\">\n",
       "<span class=\"u-hide-mobile\">Points</span>\n",
       "<span class=\"u-show-mobile\">P</span>\n",
       "</th>\n",
       "<th class=\"table-head__cell u-text-right rating\">\n",
       "<span class=\"u-hide-mobile\">Rating</span>\n",
       "<span class=\"u-show-mobile\">R</span>\n",
       "</th>\n",
       "</tr>\n",
       "</thead>\n",
       "<tbody>\n",
       "<tr class=\"rankings-block__banner\">\n",
       "<td class=\"rankings-block__banner--pos\">1</td>\n",
       "<td class=\"rankings-block__banner--team-name\">\n",
       "<span class=\"flag-30 rankings-block__banner--flag NZ\"></span>\n",
       "<span class=\"u-hide-phablet\">New Zealand</span>\n",
       "<span class=\"u-show-phablet\">NZ</span>\n",
       "</td>\n",
       "<td class=\"rankings-block__banner--matches\">20</td>\n",
       "<td class=\"rankings-block__banner--points\">2,448</td>\n",
       "<td class=\"rankings-block__banner--rating u-text-right\">\n",
       "                            122\n",
       "                            <span class=\"circle-branding circle-branding--top\"></span>\n",
       "<span class=\"circle-branding circle-branding--bottom\"></span>\n",
       "</td>\n",
       "</tr>\n",
       "<tr class=\"table-body\" data-team-id=\"11\">\n",
       "<td class=\"table-body__cell table-body__cell--position u-text-right\">2</td>\n",
       "<td class=\"table-body__cell rankings-table__team\">\n",
       "<span class=\"flag-15 table-body_logo ENG\"></span>\n",
       "<span class=\"u-hide-phablet\">England</span>\n",
       "<span class=\"u-show-phablet\">ENG</span>\n",
       "</td>\n",
       "<td class=\"table-body__cell u-center-text\">32</td>\n",
       "<td class=\"table-body__cell u-center-text\">3,793</td>\n",
       "<td class=\"table-body__cell u-text-right rating\">119</td>\n",
       "</tr>\n",
       "<tr class=\"table-body\" data-team-id=\"15\">\n",
       "<td class=\"table-body__cell table-body__cell--position u-text-right\">3</td>\n",
       "<td class=\"table-body__cell rankings-table__team\">\n",
       "<span class=\"flag-15 table-body_logo AUS\"></span>\n",
       "<span class=\"u-hide-phablet\">Australia</span>\n",
       "<span class=\"u-show-phablet\">AUS</span>\n",
       "</td>\n",
       "<td class=\"table-body__cell u-center-text\">31</td>\n",
       "<td class=\"table-body__cell u-center-text\">3,475</td>\n",
       "<td class=\"table-body__cell u-text-right rating\">112</td>\n",
       "</tr>\n",
       "<tr class=\"table-body\" data-team-id=\"14\">\n",
       "<td class=\"table-body__cell table-body__cell--position u-text-right\">4</td>\n",
       "<td class=\"table-body__cell rankings-table__team\">\n",
       "<span class=\"flag-15 table-body_logo IND\"></span>\n",
       "<span class=\"u-hide-phablet\">India</span>\n",
       "<span class=\"u-show-phablet\">IND</span>\n",
       "</td>\n",
       "<td class=\"table-body__cell u-center-text\">38</td>\n",
       "<td class=\"table-body__cell u-center-text\">4,162</td>\n",
       "<td class=\"table-body__cell u-text-right rating\">110</td>\n",
       "</tr>\n",
       "<tr class=\"table-body\" data-team-id=\"19\">\n",
       "<td class=\"table-body__cell table-body__cell--position u-text-right\">5</td>\n",
       "<td class=\"table-body__cell rankings-table__team\">\n",
       "<span class=\"flag-15 table-body_logo SA\"></span>\n",
       "<span class=\"u-hide-phablet\">South Africa</span>\n",
       "<span class=\"u-show-phablet\">SA</span>\n",
       "</td>\n",
       "<td class=\"table-body__cell u-center-text\">31</td>\n",
       "<td class=\"table-body__cell u-center-text\">3,167</td>\n",
       "<td class=\"table-body__cell u-text-right rating\">102</td>\n",
       "</tr>\n",
       "<tr class=\"table-body\" data-team-id=\"20\">\n",
       "<td class=\"table-body__cell table-body__cell--position u-text-right\">6</td>\n",
       "<td class=\"table-body__cell rankings-table__team\">\n",
       "<span class=\"flag-15 table-body_logo PAK\"></span>\n",
       "<span class=\"u-hide-phablet\">Pakistan</span>\n",
       "<span class=\"u-show-phablet\">PAK</span>\n",
       "</td>\n",
       "<td class=\"table-body__cell u-center-text\">30</td>\n",
       "<td class=\"table-body__cell u-center-text\">2,921</td>\n",
       "<td class=\"table-body__cell u-text-right rating\">97</td>\n",
       "</tr>\n",
       "<tr class=\"table-body\" data-team-id=\"22\">\n",
       "<td class=\"table-body__cell table-body__cell--position u-text-right\">7</td>\n",
       "<td class=\"table-body__cell rankings-table__team\">\n",
       "<span class=\"flag-15 table-body_logo BAN\"></span>\n",
       "<span class=\"u-hide-phablet\">Bangladesh</span>\n",
       "<span class=\"u-show-phablet\">BAN</span>\n",
       "</td>\n",
       "<td class=\"table-body__cell u-center-text\">36</td>\n",
       "<td class=\"table-body__cell u-center-text\">3,350</td>\n",
       "<td class=\"table-body__cell u-text-right rating\">93</td>\n",
       "</tr>\n",
       "<tr class=\"table-body\" data-team-id=\"13\">\n",
       "<td class=\"table-body__cell table-body__cell--position u-text-right\">8</td>\n",
       "<td class=\"table-body__cell rankings-table__team\">\n",
       "<span class=\"flag-15 table-body_logo SL\"></span>\n",
       "<span class=\"u-hide-phablet\">Sri Lanka</span>\n",
       "<span class=\"u-show-phablet\">SL</span>\n",
       "</td>\n",
       "<td class=\"table-body__cell u-center-text\">35</td>\n",
       "<td class=\"table-body__cell u-center-text\">2,835</td>\n",
       "<td class=\"table-body__cell u-text-right rating\">81</td>\n",
       "</tr>\n",
       "<tr class=\"table-body\" data-team-id=\"21\">\n",
       "<td class=\"table-body__cell table-body__cell--position u-text-right\">9</td>\n",
       "<td class=\"table-body__cell rankings-table__team\">\n",
       "<span class=\"flag-15 table-body_logo WI\"></span>\n",
       "<span class=\"u-hide-phablet\">West Indies</span>\n",
       "<span class=\"u-show-phablet\">WI</span>\n",
       "</td>\n",
       "<td class=\"table-body__cell u-center-text\">36</td>\n",
       "<td class=\"table-body__cell u-center-text\">2,788</td>\n",
       "<td class=\"table-body__cell u-text-right rating\">77</td>\n",
       "</tr>\n",
       "<tr class=\"table-body\" data-team-id=\"17\">\n",
       "<td class=\"table-body__cell table-body__cell--position u-text-right\">10</td>\n",
       "<td class=\"table-body__cell rankings-table__team\">\n",
       "<span class=\"flag-15 table-body_logo AFG\"></span>\n",
       "<span class=\"u-hide-phablet\">Afghanistan</span>\n",
       "<span class=\"u-show-phablet\">AFG</span>\n",
       "</td>\n",
       "<td class=\"table-body__cell u-center-text\">23</td>\n",
       "<td class=\"table-body__cell u-center-text\">1,562</td>\n",
       "<td class=\"table-body__cell u-text-right rating\">68</td>\n",
       "</tr>\n",
       "<tr class=\"table-body\" data-team-id=\"12\">\n",
       "<td class=\"table-body__cell table-body__cell--position u-text-right\">11</td>\n",
       "<td class=\"table-body__cell rankings-table__team\">\n",
       "<span class=\"flag-15 table-body_logo IRE\"></span>\n",
       "<span class=\"u-hide-phablet\">Ireland</span>\n",
       "<span class=\"u-show-phablet\">IRE</span>\n",
       "</td>\n",
       "<td class=\"table-body__cell u-center-text\">28</td>\n",
       "<td class=\"table-body__cell u-center-text\">1,445</td>\n",
       "<td class=\"table-body__cell u-text-right rating\">52</td>\n",
       "</tr>\n",
       "<tr class=\"table-body\" data-team-id=\"69\">\n",
       "<td class=\"table-body__cell table-body__cell--position u-text-right\">12</td>\n",
       "<td class=\"table-body__cell rankings-table__team\">\n",
       "<span class=\"flag-15 table-body_logo SCO\"></span>\n",
       "<span class=\"u-hide-phablet\">Scotland</span>\n",
       "<span class=\"u-show-phablet\">SCO</span>\n",
       "</td>\n",
       "<td class=\"table-body__cell u-center-text\">14</td>\n",
       "<td class=\"table-body__cell u-center-text\">712</td>\n",
       "<td class=\"table-body__cell u-text-right rating\">51</td>\n",
       "</tr>\n",
       "<tr class=\"table-body\" data-team-id=\"18\">\n",
       "<td class=\"table-body__cell table-body__cell--position u-text-right\">13</td>\n",
       "<td class=\"table-body__cell rankings-table__team\">\n",
       "<span class=\"flag-15 table-body_logo ZIM\"></span>\n",
       "<span class=\"u-hide-phablet\">Zimbabwe</span>\n",
       "<span class=\"u-show-phablet\">ZIM</span>\n",
       "</td>\n",
       "<td class=\"table-body__cell u-center-text\">23</td>\n",
       "<td class=\"table-body__cell u-center-text\">951</td>\n",
       "<td class=\"table-body__cell u-text-right rating\">41</td>\n",
       "</tr>\n",
       "<tr class=\"table-body\" data-team-id=\"68\">\n",
       "<td class=\"table-body__cell table-body__cell--position u-text-right\">14</td>\n",
       "<td class=\"table-body__cell rankings-table__team\">\n",
       "<span class=\"flag-15 table-body_logo NED\"></span>\n",
       "<span class=\"u-hide-phablet\">Netherlands</span>\n",
       "<span class=\"u-show-phablet\">NED</span>\n",
       "</td>\n",
       "<td class=\"table-body__cell u-center-text\">13</td>\n",
       "<td class=\"table-body__cell u-center-text\">459</td>\n",
       "<td class=\"table-body__cell u-text-right rating\">35</td>\n",
       "</tr>\n",
       "<tr class=\"table-body\" data-team-id=\"155\">\n",
       "<td class=\"table-body__cell table-body__cell--position u-text-right\">15</td>\n",
       "<td class=\"table-body__cell rankings-table__team\">\n",
       "<span class=\"flag-15 table-body_logo UAE\"></span>\n",
       "<span class=\"u-hide-phablet\">UAE</span>\n",
       "<span class=\"u-show-phablet\">UAE</span>\n",
       "</td>\n",
       "<td class=\"table-body__cell u-center-text\">20</td>\n",
       "<td class=\"table-body__cell u-center-text\">651</td>\n",
       "<td class=\"table-body__cell u-text-right rating\">33</td>\n",
       "</tr>\n",
       "<tr class=\"table-body\" data-team-id=\"128\">\n",
       "<td class=\"table-body__cell table-body__cell--position u-text-right\">16</td>\n",
       "<td class=\"table-body__cell rankings-table__team\">\n",
       "<span class=\"flag-15 table-body_logo OMA\"></span>\n",
       "<span class=\"u-hide-phablet\">Oman</span>\n",
       "<span class=\"u-show-phablet\">OMA</span>\n",
       "</td>\n",
       "<td class=\"table-body__cell u-center-text\">27</td>\n",
       "<td class=\"table-body__cell u-center-text\">777</td>\n",
       "<td class=\"table-body__cell u-text-right rating\">29</td>\n",
       "</tr>\n",
       "<tr class=\"table-body\" data-team-id=\"124\">\n",
       "<td class=\"table-body__cell table-body__cell--position u-text-right\">17</td>\n",
       "<td class=\"table-body__cell rankings-table__team\">\n",
       "<span class=\"flag-15 table-body_logo NAM\"></span>\n",
       "<span class=\"u-hide-phablet\">Namibia</span>\n",
       "<span class=\"u-show-phablet\">NAM</span>\n",
       "</td>\n",
       "<td class=\"table-body__cell u-center-text\">13</td>\n",
       "<td class=\"table-body__cell u-center-text\">268</td>\n",
       "<td class=\"table-body__cell u-text-right rating\">21</td>\n",
       "</tr>\n",
       "<tr class=\"table-body\" data-team-id=\"125\">\n",
       "<td class=\"table-body__cell table-body__cell--position u-text-right\">18</td>\n",
       "<td class=\"table-body__cell rankings-table__team\">\n",
       "<span class=\"flag-15 table-body_logo NEP\"></span>\n",
       "<span class=\"u-hide-phablet\">Nepal</span>\n",
       "<span class=\"u-show-phablet\">NEP</span>\n",
       "</td>\n",
       "<td class=\"table-body__cell u-center-text\">17</td>\n",
       "<td class=\"table-body__cell u-center-text\">308</td>\n",
       "<td class=\"table-body__cell u-text-right rating\">18</td>\n",
       "</tr>\n",
       "<tr class=\"table-body\" data-team-id=\"157\">\n",
       "<td class=\"table-body__cell table-body__cell--position u-text-right\">19</td>\n",
       "<td class=\"table-body__cell rankings-table__team\">\n",
       "<span class=\"flag-15 table-body_logo USA\"></span>\n",
       "<span class=\"u-hide-phablet\">United States</span>\n",
       "<span class=\"u-show-phablet\">USA</span>\n",
       "</td>\n",
       "<td class=\"table-body__cell u-center-text\">14</td>\n",
       "<td class=\"table-body__cell u-center-text\">232</td>\n",
       "<td class=\"table-body__cell u-text-right rating\">17</td>\n",
       "</tr>\n",
       "<tr class=\"table-body\" data-team-id=\"133\">\n",
       "<td class=\"table-body__cell table-body__cell--position u-text-right\">20</td>\n",
       "<td class=\"table-body__cell rankings-table__team\">\n",
       "<span class=\"flag-15 table-body_logo PNG\"></span>\n",
       "<span class=\"u-hide-phablet\">Papua New Guinea</span>\n",
       "<span class=\"u-show-phablet\">PNG</span>\n",
       "</td>\n",
       "<td class=\"table-body__cell u-center-text\">23</td>\n",
       "<td class=\"table-body__cell u-center-text\">178</td>\n",
       "<td class=\"table-body__cell u-text-right rating\">8</td>\n",
       "</tr>\n",
       "</tbody>\n",
       "</table>\n",
       "</div>\n",
       "</section>\n",
       "<div class=\"promo promo--full rankings-table\">\n",
       "<div class=\"promo__image-container\">\n",
       "<picture class=\"promo__image\">\n",
       "<source media=\"(max-width: 500px)\" srcset=\"https://resources.pulse.icc-cricket.com/ICC/photo/2017/02/07/2fb1280c-5d1b-4dee-93d4-c586996065cf/GettyImages-468776142.jpg, https://resources.pulse.icc-cricket.com/ICC/photo/2017/02/07/bc292450-c3fa-4345-9244-66fbe0179709/GettyImages-468776142.jpg 2x\">\n",
       "<source srcset=\"https://resources.pulse.icc-cricket.com/ICC/photo/2017/02/07/10013c12-da7d-4c41-b261-1c9f626da0c8/GettyImages-468776142.jpg, https://resources.pulse.icc-cricket.com/ICC/photo/2017/02/07/f20245f7-3ffb-4f6d-8a18-d25804e1c809/GettyImages-468776142.jpg 2x\">\n",
       "<img alt=\"Play the MRF Tyres ICC Rankings Predictor\" class=\"poly-object-fit\" src=\"https://resources.pulse.icc-cricket.com/ICC/photo/2017/02/07/10013c12-da7d-4c41-b261-1c9f626da0c8/GettyImages-468776142.jpg\"/>\n",
       "</source></source></picture>\n",
       "</div>\n",
       "<div class=\"promo__text-container promo__text-container--with-image\">\n",
       "<h3 class=\"promo__title\">Play the MRF Tyres ICC Rankings Predictor</h3>\n",
       "<p class=\"promo__text\">Predict the outcome of upcoming ODI cricket fixtures and see how the MRF Tyres ICC Rankings change.</p>\n",
       "<a class=\"promo__cta btn\" href=\"/rankings/mens/rankings-predictor/odi\">Play Now</a>\n",
       "</div>\n",
       "</div>\n",
       "</div>\n",
       "</div>\n",
       "</div>\n",
       "</div>\n",
       "</main>\n",
       "<footer class=\"footer\" role=\"contentinfo\">\n",
       "<div class=\"wrapper\">\n",
       "<section class=\"footer-partners\">\n",
       "<div class=\"footer-partners__list u-show-desktop\">\n",
       "<section class=\"footer-partners__group\">\n",
       "<h5 class=\"footer-partners__subtitle\">Partners</h5>\n",
       "<div class=\"footer-partners__inline-list\">\n",
       "<div class=\"footer-partners__item\">\n",
       "<a aria-label=\"Nissan\" class=\"footer-partners__link\" data-tracking-url=\"https://track.adform.net/adfserve/?bn=18235072;srctype=4;ord=%%ADFRND%%\" data-widget=\"impression-tracker\" href=\"http://track.adform.net/C/?bn=18235072\" target=\"_blank\" title=\"Nissan\">\n",
       "<img alt=\"Nissan\" class=\"footer-partners__image\" src=\"https://resources.pulse.icc-cricket.com/photo-resources/2022/01/15/556cde1c-c24f-4cd5-846c-f590051a9121/Asset-30.png?width=135\"/>\n",
       "</a>\n",
       "</div>\n",
       "<div class=\"footer-partners__item\">\n",
       "<a aria-label=\"Oppo\" class=\"footer-partners__link\" data-tracking-url=\"https://track.adform.net/adfserve/?bn=18236015;srctype=4;ord=%%ADFRND%%\" data-widget=\"impression-tracker\" href=\"http://track.adform.net/C/?bn=18236015\" target=\"_blank\" title=\"Oppo\">\n",
       "<img alt=\"Oppo\" class=\"footer-partners__image\" src=\"https://resources.pulse.icc-cricket.com/photo-resources/2021/10/14/9b7cc79f-0edb-4f6b-8504-d3753ae51058/Asset-25.png?width=135\"/>\n",
       "</a>\n",
       "</div>\n",
       "<div class=\"footer-partners__item\">\n",
       "<a aria-label=\"MRF Tyres\" class=\"footer-partners__link\" data-tracking-url=\"https://track.adform.net/adfserve/?bn=18235782;srctype=4;ord=%%ADFRND%%\" data-widget=\"impression-tracker\" href=\"http://track.adform.net/C/?bn=18235782\" target=\"_blank\" title=\"MRF Tyres\">\n",
       "<img alt=\"MRF Tyres\" class=\"footer-partners__image\" src=\"https://resources.pulse.icc-cricket.com/photo-resources/2022/02/22/cf98b2d9-f9c7-4dc1-8865-f8611bd11610/MRF-Light-Dark-Background.png?width=135\"/>\n",
       "</a>\n",
       "</div>\n",
       "<div class=\"footer-partners__item\">\n",
       "<a aria-label=\"Booking\" class=\"footer-partners__link\" href=\"https://www.booking.com/\" target=\"_blank\" title=\"Booking\">\n",
       "<img alt=\"Booking\" class=\"footer-partners__image\" src=\"https://resources.pulse.icc-cricket.com/photo-resources/2021/08/31/f5c5d674-4d32-49ad-903c-fa870a649c31/Asset-23.png?width=135\"/>\n",
       "</a>\n",
       "</div>\n",
       "<div class=\"footer-partners__item\">\n",
       "<a aria-label=\"BYJU's\" class=\"footer-partners__link\" href=\"https://byjus.com/\" target=\"_blank\" title=\"BYJU's\">\n",
       "<img alt=\"BYJU\" class=\"footer-partners__image\" src=\"https://resources.pulse.icc-cricket.com/photo-resources/2021/10/14/730c7a40-cc3c-4e6a-93e8-669a3f308e32/Asset-24.png?width=135\"/>\n",
       "</a>\n",
       "</div>\n",
       "<div class=\"footer-partners__item\">\n",
       "<a aria-label=\"Emirates\" class=\"footer-partners__link\" data-tracking-url=\"https://track.adform.net/adfserve/?bn=18236184;srctype=4;ord=%%ADFRND%%\" data-widget=\"impression-tracker\" href=\"http://track.adform.net/C/?bn=18236184\" target=\"_blank\" title=\"Emirates\">\n",
       "<img alt=\"Emirates\" class=\"footer-partners__image\" src=\"https://resources.pulse.icc-cricket.com/photo-resources/2021/08/31/75e12e44-d076-47f7-81d9-7de8b924b4f1/Asset-21.png?width=135\"/>\n",
       "</a>\n",
       "</div>\n",
       "</div>\n",
       "</section>\n",
       "</div>\n",
       "<section class=\"footer-partners__list footer-partners__list--double u-hide-desktop\">\n",
       "<div class=\"footer-partners__top-row-item\">\n",
       "<section class=\"footer-partners__group\">\n",
       "<h5 class=\"footer-partners__subtitle\">Partners</h5>\n",
       "<div class=\"footer-partners__inline-list\">\n",
       "<div class=\"footer-partners__item\">\n",
       "<a aria-label=\"Nissan\" class=\"footer-partners__link\" data-tracking-url=\"https://track.adform.net/adfserve/?bn=18235072;srctype=4;ord=%%ADFRND%%\" data-widget=\"impression-tracker\" href=\"http://track.adform.net/C/?bn=18235072\" target=\"_blank\" title=\"Nissan\">\n",
       "<img alt=\"Nissan\" class=\"footer-partners__image\" src=\"https://resources.pulse.icc-cricket.com/photo-resources/2022/01/15/556cde1c-c24f-4cd5-846c-f590051a9121/Asset-30.png?width=135\"/>\n",
       "</a>\n",
       "</div>\n",
       "<div class=\"footer-partners__item\">\n",
       "<a aria-label=\"Oppo\" class=\"footer-partners__link\" data-tracking-url=\"https://track.adform.net/adfserve/?bn=18236015;srctype=4;ord=%%ADFRND%%\" data-widget=\"impression-tracker\" href=\"http://track.adform.net/C/?bn=18236015\" target=\"_blank\" title=\"Oppo\">\n",
       "<img alt=\"Oppo\" class=\"footer-partners__image\" src=\"https://resources.pulse.icc-cricket.com/photo-resources/2021/10/14/9b7cc79f-0edb-4f6b-8504-d3753ae51058/Asset-25.png?width=135\"/>\n",
       "</a>\n",
       "</div>\n",
       "<div class=\"footer-partners__item\">\n",
       "<a aria-label=\"MRF Tyres\" class=\"footer-partners__link\" data-tracking-url=\"https://track.adform.net/adfserve/?bn=18235782;srctype=4;ord=%%ADFRND%%\" data-widget=\"impression-tracker\" href=\"http://track.adform.net/C/?bn=18235782\" target=\"_blank\" title=\"MRF Tyres\">\n",
       "<img alt=\"MRF Tyres\" class=\"footer-partners__image\" src=\"https://resources.pulse.icc-cricket.com/photo-resources/2022/02/22/cf98b2d9-f9c7-4dc1-8865-f8611bd11610/MRF-Light-Dark-Background.png?width=135\"/>\n",
       "</a>\n",
       "</div>\n",
       "<div class=\"footer-partners__item\">\n",
       "<a aria-label=\"Booking\" class=\"footer-partners__link\" href=\"https://www.booking.com/\" target=\"_blank\" title=\"Booking\">\n",
       "<img alt=\"Booking\" class=\"footer-partners__image\" src=\"https://resources.pulse.icc-cricket.com/photo-resources/2021/08/31/f5c5d674-4d32-49ad-903c-fa870a649c31/Asset-23.png?width=135\"/>\n",
       "</a>\n",
       "</div>\n",
       "<div class=\"footer-partners__item\">\n",
       "<a aria-label=\"BYJU's\" class=\"footer-partners__link\" href=\"https://byjus.com/\" target=\"_blank\" title=\"BYJU's\">\n",
       "<img alt=\"BYJU\" class=\"footer-partners__image\" src=\"https://resources.pulse.icc-cricket.com/photo-resources/2021/10/14/730c7a40-cc3c-4e6a-93e8-669a3f308e32/Asset-24.png?width=135\"/>\n",
       "</a>\n",
       "</div>\n",
       "<div class=\"footer-partners__item\">\n",
       "<a aria-label=\"Emirates\" class=\"footer-partners__link\" data-tracking-url=\"https://track.adform.net/adfserve/?bn=18236184;srctype=4;ord=%%ADFRND%%\" data-widget=\"impression-tracker\" href=\"http://track.adform.net/C/?bn=18236184\" target=\"_blank\" title=\"Emirates\">\n",
       "<img alt=\"Emirates\" class=\"footer-partners__image\" src=\"https://resources.pulse.icc-cricket.com/photo-resources/2021/08/31/75e12e44-d076-47f7-81d9-7de8b924b4f1/Asset-21.png?width=135\"/>\n",
       "</a>\n",
       "</div>\n",
       "</div>\n",
       "</section>\n",
       "</div>\n",
       "<div class=\"footer-partners__top-row-item\">\n",
       "<section class=\"footer-partners__group\">\n",
       "<h5 class=\"footer-partners__subtitle\">Broadcast Partner</h5>\n",
       "<div class=\"footer-partners__inline-list\">\n",
       "<div class=\"footer-partners__item\">\n",
       "<a aria-label=\"Star Sports\" class=\"footer-partners__link\" data-tracking-url=\"https://track.adform.net/adfserve/?bn=18238489;srctype=4;ord=%%ADFRND%%\" data-widget=\"impression-tracker\" href=\"http://track.adform.net/C/?bn=18238489\" target=\"_blank\" title=\"Star Sports\">\n",
       "<img alt=\"Star Sports\" class=\"footer-partners__image\" src=\"https://resources.pulse.icc-cricket.com/photo-resources/2022/02/22/cca29462-6777-4a29-9ec6-c9388a3205cb/STAR-SPORTS-Light-Background.png?width=135\"/>\n",
       "</a>\n",
       "</div>\n",
       "</div>\n",
       "</section>\n",
       "</div>\n",
       "</section>\n",
       "<div class=\"footer-partners__list footer-partners__list--broadcast u-show-desktop\">\n",
       "<section class=\"footer-partners__group\">\n",
       "<h5 class=\"footer-partners__subtitle\">Broadcast Partner</h5>\n",
       "<div class=\"footer-partners__inline-list\">\n",
       "<div class=\"footer-partners__item\">\n",
       "<a aria-label=\"Star Sports\" class=\"footer-partners__link\" data-tracking-url=\"https://track.adform.net/adfserve/?bn=18238489;srctype=4;ord=%%ADFRND%%\" data-widget=\"impression-tracker\" href=\"http://track.adform.net/C/?bn=18238489\" target=\"_blank\" title=\"Star Sports\">\n",
       "<img alt=\"Star Sports\" class=\"footer-partners__image\" src=\"https://resources.pulse.icc-cricket.com/photo-resources/2022/02/22/cca29462-6777-4a29-9ec6-c9388a3205cb/STAR-SPORTS-Light-Background.png?width=135\"/>\n",
       "</a>\n",
       "</div>\n",
       "</div>\n",
       "</section>\n",
       "</div>\n",
       "<div class=\"footer-partners__list\">\n",
       "<section class=\"footer-partners__group\">\n",
       "<div class=\"footer-partners__inline-list\">\n",
       "<div class=\"footer-partners__item\">\n",
       "<a aria-label=\"Bira 91\" class=\"footer-partners__link\" href=\"https://www.bira91.com/\" target=\"_blank\" title=\"Bira 91\">\n",
       "<img alt=\"Bira 91\" class=\"footer-partners__image\" src=\"https://resources.pulse.icc-cricket.com/photo-resources/2022/01/15/c584ea8a-de45-4499-98a8-ecba9c31d864/Asset-29.png?width=120\"/>\n",
       "</a>\n",
       "</div>\n",
       "<div class=\"footer-partners__item\">\n",
       "<a aria-label=\"Star Sports\" class=\"footer-partners__link\" href=\"http://track.adform.net/C/?bn=18238489\" title=\"Star Sports\">\n",
       "<img alt=\"Star Sports\" class=\"footer-partners__image\" src=\"https://resources.pulse.icc-cricket.com/photo-resources/2022/01/15/91fff57d-aa1c-45e4-b873-fd4d608cb068/star-sport.png?width=120\"/>\n",
       "</a>\n",
       "</div>\n",
       "<div class=\"footer-partners__item\">\n",
       "<a aria-label=\"Coca Cola\" class=\"footer-partners__link\" href=\"https://www.coca-colaindia.com/\" target=\"_blank\" title=\"Coca Cola\">\n",
       "<img alt=\"Coca Cola\" class=\"footer-partners__image\" src=\"https://resources.pulse.icc-cricket.com/photo-resources/2022/01/15/81ca1f9e-e749-49d0-bcd6-58928924e320/Asset-28.png?width=120\"/>\n",
       "</a>\n",
       "</div>\n",
       "<div class=\"footer-partners__item\">\n",
       "<a aria-label=\"Upstox\" class=\"footer-partners__link\" href=\"https://upstox.com/\" target=\"_blank\" title=\"Upstox\">\n",
       "<img alt=\"Upstox\" class=\"footer-partners__image\" src=\"https://resources.pulse.icc-cricket.com/photo-resources/2022/01/15/822a3617-3376-4cd5-ae62-5a88d72a00a1/Asset-31.png?width=120\"/>\n",
       "</a>\n",
       "</div>\n",
       "<div class=\"footer-partners__item\">\n",
       "<a aria-label=\"PostPe\" class=\"footer-partners__link\" href=\"https://postpe.app/\" title=\"PostPe\">\n",
       "<img alt=\"PostPe\" class=\"footer-partners__image\" src=\"https://resources.pulse.icc-cricket.com/photo-resources/2021/10/14/168ca817-ad29-4757-b615-e9a75a3a5214/postpe-logo.png?width=120\"/>\n",
       "</a>\n",
       "</div>\n",
       "<div class=\"footer-partners__item\">\n",
       "<a aria-label=\"FTX\" class=\"footer-partners__link\" href=\"https://ftx.com/\" target=\"_blank\" title=\"FTX\">\n",
       "<img alt=\"FTX\" class=\"footer-partners__image\" src=\"https://resources.pulse.icc-cricket.com/photo-resources/2022/01/15/6f5d3137-2e5f-4e31-87c1-755da5da7822/FTX.png?width=120\"/>\n",
       "</a>\n",
       "</div>\n",
       "<div class=\"footer-partners__item\">\n",
       "<a aria-label=\"NIUM\" class=\"footer-partners__link\" href=\"https://www.nium.com/\" title=\"NIUM\">\n",
       "<img alt=\"NIUM\" class=\"footer-partners__image\" src=\"https://resources.pulse.icc-cricket.com/photo-resources/2022/02/22/8246008c-e39f-4e38-b3d0-497fc89df610/NIUM-Light-Dark-Background.png?width=120\"/>\n",
       "</a>\n",
       "</div>\n",
       "</div>\n",
       "</section>\n",
       "</div>\n",
       "<div class=\"footer-partners__list\">\n",
       "<section class=\"footer-partners__group\">\n",
       "<div class=\"footer-partners__inline-list\">\n",
       "<div class=\"footer-partners__item\">\n",
       "<a aria-label=\"Royal Stag\" class=\"footer-partners__link\" href=\"https://www.pernod-ricard.com/en/brands/our-brands/royal-stag/\" target=\"_blank\" title=\"Royal Stag\">\n",
       "<img alt=\"Royal Stag\" class=\"footer-partners__image\" src=\"https://resources.pulse.icc-cricket.com/photo-resources/2022/01/15/be328e47-dadb-44ae-90a4-504108775c84/Asset-27.png?width=105\"/>\n",
       "</a>\n",
       "</div>\n",
       "<div class=\"footer-partners__item\">\n",
       "<a aria-label=\"Fantasy Cricket\" class=\"footer-partners__link\" href=\"https://www.dream11.com/fantasy-cricket\" target=\"_blank\" title=\"Fantasy Cricket\">\n",
       "<img alt=\"Fantasy Cricket\" class=\"footer-partners__image\" src=\"https://resources.pulse.icc-cricket.com/photo-resources/2022/01/15/1d9b1f44-0aba-426f-9389-2ae6262657d5/Asset-26.png?width=105\"/>\n",
       "</a>\n",
       "</div>\n",
       "<div class=\"footer-partners__item\">\n",
       "<a aria-label=\"Jacobs Creek\" class=\"footer-partners__link\" href=\"https://www.jacobscreek.com/en-gb\" target=\"_blank\" title=\"Jacobs Creek\">\n",
       "<img alt=\"Jacobs Creek\" class=\"footer-partners__image\" src=\"https://resources.pulse.icc-cricket.com/photo-resources/2022/01/15/ed9b7a1b-b618-4e6b-b68c-3bb0e840275b/Asset-20.png?width=105\"/>\n",
       "</a>\n",
       "</div>\n",
       "<div class=\"footer-partners__item\">\n",
       "<a aria-label=\"FanCraze\" class=\"footer-partners__link\" href=\"https://www.fancraze.com\" target=\"_blank\" title=\"FanCraze\">\n",
       "<img alt=\"FanCraze\" class=\"footer-partners__image\" src=\"https://resources.pulse.icc-cricket.com/photo-resources/2022/01/15/b404516f-1e49-4645-86de-12dc5283e937/FanCraze.png?width=105\"/>\n",
       "</a>\n",
       "</div>\n",
       "</div>\n",
       "</section>\n",
       "</div>\n",
       "<div class=\"footer-partners__list\">\n",
       "<section class=\"footer-partners__group\">\n",
       "<h5 class=\"footer-partners__subtitle\">Social Responsibility</h5>\n",
       "<div class=\"footer-partners__inline-list\">\n",
       "<div class=\"footer-partners__item\">\n",
       "<a aria-label=\"Cricket for Good\" class=\"footer-partners__link\" href=\"https://www.icc-cricket.com/about/the-icc/cricket-for-good\" target=\"_blank\" title=\"Cricket for Good\">\n",
       "<img alt=\"Cricket for Good\" class=\"footer-partners__image\" src=\"https://resources.pulse.icc-cricket.com/photo-resources/2022/02/22/bf6b5225-0e4f-4ccd-800c-d4550b84974f/CRICKET4GOOD-Light-Background.png?width=120\"/>\n",
       "</a>\n",
       "</div>\n",
       "</div>\n",
       "</section>\n",
       "</div>\n",
       "</section>\n",
       "</div>\n",
       "<div class=\"global-footer\">\n",
       "<div class=\"wrapper\">\n",
       "<div class=\"col-12\">\n",
       "<div class=\"global-footer__social-container\">\n",
       "<ul class=\"social-follow-footer\">\n",
       "<h5 class=\"social-follow-footer__subtitle\">Follow <span class=\"u-italics\">ICC</span> On social</h5>\n",
       "<li class=\"social-follow-footer__item\">\n",
       "<a class=\"social-follow-footer__link facebook\" href=\"https://www.facebook.com/icc/\" target=\"_blank\">\n",
       "<span class=\"icn icn-facebook-circle u-hide-phablet\"></span>\n",
       "<span class=\"icn icn-facebook-circle-small u-show-phablet\"></span>\n",
       "</a>\n",
       "</li>\n",
       "<li class=\"social-follow-footer__item\">\n",
       "<a class=\"social-follow-footer__link twitter\" href=\"https://twitter.com/ICC\" target=\"_blank\">\n",
       "<span class=\"icn icn-twitter-circle u-hide-phablet\"></span>\n",
       "<span class=\"icn icn-twitter-circle-small u-show-phablet\"></span>\n",
       "</a>\n",
       "</li>\n",
       "<li class=\"social-follow-footer__item\">\n",
       "<a class=\"social-follow-footer__link instagram\" href=\"https://www.instagram.com/icc/\" target=\"_blank\">\n",
       "<span class=\"icn icn-instagram-circle u-hide-phablet\"></span>\n",
       "<span class=\"icn icn-instagram-circle-small u-show-phablet\"></span>\n",
       "</a>\n",
       "</li>\n",
       "<li class=\"social-follow-footer__item\">\n",
       "<a class=\"social-follow-footer__link youtube\" href=\"https://www.youtube.com/user/CricketICC\" target=\"_blank\">\n",
       "<span class=\"icn icn-youtube-circle u-hide-phablet\"></span>\n",
       "<span class=\"icn icn-youtube-circle-small u-show-phablet\"></span>\n",
       "</a>\n",
       "</li>\n",
       "<li class=\"social-follow-footer__item\">\n",
       "<a class=\"social-follow-footer__link tiktok\" href=\"https://www.tiktok.com/@icc\" target=\"_blank\">\n",
       "<span class=\"icn icn-tiktok-circle u-hide-phablet\"></span>\n",
       "<span class=\"icn icn-tiktok-circle-small u-show-phablet\"></span>\n",
       "</a>\n",
       "</li>\n",
       "</ul>\n",
       "</div>\n",
       "<div class=\"global-footer__branding\">\n",
       "<a class=\"global-footer__branding-link\" href=\"/\"><div class=\"icn icn-logo-icc-footer\"></div></a>\n",
       "</div>\n",
       "<div class=\"global-footer__lists\">\n",
       "<ul class=\"global-footer__list\">\n",
       "<h4 class=\"global-footer__title\">Cricket</h4>\n",
       "<li class=\"global-footer__item\"><a class=\"global-footer__link\" href=\"http://www.icc-cricket.com/live-cricket/live\">\n",
       "                    \tLive Scores Index\n",
       "                \t</a></li>\n",
       "<li class=\"global-footer__item\"><a class=\"global-footer__link\" href=\"http://www.icc-cricket.com/live-cricket/mens-results\">\n",
       "                    \tMen's Results\n",
       "                \t</a></li>\n",
       "<li class=\"global-footer__item\"><a class=\"global-footer__link\" href=\"http://www.icc-cricket.com/live-cricket/womens-results\">\n",
       "                    \tWomen's Results\n",
       "                \t</a></li>\n",
       "</ul>\n",
       "<ul class=\"global-footer__list\">\n",
       "<h4 class=\"global-footer__title\">ICC Events</h4>\n",
       "<li class=\"global-footer__item\"><a class=\"global-footer__link\" href=\"https://www.cricketworldcup.com/\">\n",
       "                    \tICC Cricket World Cup\n",
       "                \t</a></li>\n",
       "<li class=\"global-footer__item\"><a class=\"global-footer__link\" href=\"https://www.t20worldcup.com\">\n",
       "                    \tICC T20 World Cup\n",
       "                \t</a></li>\n",
       "<li class=\"global-footer__item\"><a class=\"global-footer__link\" href=\"http://www.icc-cricket.com/u19-world-cup/index.html\">\n",
       "                    \tICC U19 Cricket World Cup\n",
       "                \t</a></li>\n",
       "<li class=\"global-footer__item\"><a class=\"global-footer__link\" href=\"http://www.icc-cricket.com//world-test-championship\">\n",
       "                    \tICC World Test Championship\n",
       "                \t</a></li>\n",
       "<li class=\"global-footer__item\"><a class=\"global-footer__link\" href=\"http://www.icc-cricket.com/champions-trophy\">\n",
       "                    \tICC Champions Trophy\n",
       "                \t</a></li>\n",
       "<li class=\"global-footer__item\"><a class=\"global-footer__link\" href=\"http://www.icc-cricket.com//cricket-world-cup-super-league/fixtures\">\n",
       "                    \tICC Men's Cricket World Cup Super League\n",
       "                \t</a></li>\n",
       "<li class=\"global-footer__item\"><a class=\"global-footer__link\" href=\"http://www.icc-cricket.com/cricket-world-cup-challenge-league/news\">\n",
       "                    \tICC Men's Cricket World Cup Challenge League\n",
       "                \t</a></li>\n",
       "<li class=\"global-footer__item\"><a class=\"global-footer__link\" href=\"http://www.icc-cricket.com/cricket-world-cup-league-two/news\">\n",
       "                    \tICC Men's Cricket World Cup League 2\n",
       "                \t</a></li>\n",
       "<li class=\"global-footer__item\"><a class=\"global-footer__link\" href=\"http://www.icc-cricket.com/womens-championship\">\n",
       "                    \tICC Women's Championship\n",
       "                \t</a></li>\n",
       "<li class=\"global-footer__item\"><a class=\"global-footer__link\" href=\"http://www.icc-cricket.com/event-status\">\n",
       "                    \t2021 Event status\n",
       "                \t</a></li>\n",
       "</ul>\n",
       "<ul class=\"global-footer__list\">\n",
       "<h4 class=\"global-footer__title\">Rankings</h4>\n",
       "<li class=\"global-footer__item\"><a class=\"global-footer__link\" href=\"http://www.icc-cricket.com/rankings/mens/overview\">\n",
       "                    \tOverview\n",
       "                \t</a></li>\n",
       "<li class=\"global-footer__item\"><a class=\"global-footer__link\" href=\"http://www.icc-cricket.com/rankings/mens/team-rankings/test\">\n",
       "                    \tTeam Rankings\n",
       "                \t</a></li>\n",
       "<li class=\"global-footer__item\"><a class=\"global-footer__link\" href=\"https://www.icc-cricket.com/rankings/mens/player-rankings/\">\n",
       "                    \tPlayer Rankings\n",
       "                \t</a></li>\n",
       "<li class=\"global-footer__item\"><a class=\"global-footer__link\" href=\"http://www.icc-cricket.com/rankings/mens/rankings-predictor/\">\n",
       "                    \tRankings Predictor\n",
       "                \t</a></li>\n",
       "<li class=\"global-footer__item\"><a class=\"global-footer__link\" href=\"http://www.icc-cricket.com/rankings/about\">\n",
       "                    \tAbout the Rankings\n",
       "                \t</a></li>\n",
       "<li class=\"global-footer__item\"><a class=\"global-footer__link\" href=\"http://www.icc-cricket.com/rankings/faqs\">\n",
       "                    \tRankings FAQs\n",
       "                \t</a></li>\n",
       "</ul>\n",
       "<ul class=\"global-footer__list\">\n",
       "<h4 class=\"global-footer__title\">News and Video</h4>\n",
       "<li class=\"global-footer__item\"><a class=\"global-footer__link\" href=\"http://www.icc-cricket.com/news\">\n",
       "                    \tNews Index\n",
       "                \t</a></li>\n",
       "<li class=\"global-footer__item\"><a class=\"global-footer__link\" href=\"http://www.icc-cricket.com/media-releases\">\n",
       "                    \tMedia Releases\n",
       "                \t</a></li>\n",
       "<li class=\"global-footer__item\"><a class=\"global-footer__link\" href=\"http://www.icc-cricket.com/video\">\n",
       "                    \tVideo Home\n",
       "                \t</a></li>\n",
       "<li class=\"global-footer__item\"><a class=\"global-footer__link\" href=\"http://www.icc-cricket.com/photos\">\n",
       "                    \tPhotos\n",
       "                \t</a></li>\n",
       "</ul>\n",
       "<ul class=\"global-footer__list\">\n",
       "<h4 class=\"global-footer__title\">More</h4>\n",
       "<li class=\"global-footer__item\"><a class=\"global-footer__link\" href=\"https://www.fancraze.com/icc\" target=\"_blank\">\n",
       "<svg class=\"icon\"><use xlink:href=\"/resources/prod/v8.21.21/i/svg-output/icons.svg#icn-link-external\" xmlns:xlink=\"http://www.w3.org/1999/xlink\"></use></svg>\n",
       "                    \tCrictos\n",
       "                \t</a></li>\n",
       "<li class=\"global-footer__item\"><a class=\"global-footer__link\" href=\"http://www.icc-cricket.com/social\">\n",
       "                    \tICC on Social\n",
       "                \t</a></li>\n",
       "<li class=\"global-footer__item\"><a class=\"global-footer__link\" href=\"http://www.icc-cricket.com/awards/overview\">\n",
       "                    \tAwards\n",
       "                \t</a></li>\n",
       "<li class=\"global-footer__item\"><a class=\"global-footer__link\" href=\"http://www.icc-cricket.com/hall-of-fame\">\n",
       "                    \tHall of Fame\n",
       "                \t</a></li>\n",
       "<li class=\"global-footer__item\"><a class=\"global-footer__link\" href=\"http://www.icc-cricket.com/mobile\">\n",
       "                    \tICC on Mobile\n",
       "                \t</a></li>\n",
       "<li class=\"global-footer__item\"><a class=\"global-footer__link\" href=\"http://www.icc-cricket.com/about\" target=\"_blank\">\n",
       "<svg class=\"icon\"><use xlink:href=\"/resources/prod/v8.21.21/i/svg-output/icons.svg#icn-link-external\" xmlns:xlink=\"http://www.w3.org/1999/xlink\"></use></svg>\n",
       "                    \tAbout ICC\n",
       "                \t</a></li>\n",
       "<li class=\"global-footer__item\"><a class=\"global-footer__link\" href=\"http://www.icc-cricket.com/media-zone/\" target=\"_blank\">\n",
       "<svg class=\"icon\"><use xlink:href=\"/resources/prod/v8.21.21/i/svg-output/icons.svg#icn-link-external\" xmlns:xlink=\"http://www.w3.org/1999/xlink\"></use></svg>\n",
       "                    \tMediaZone\n",
       "                \t</a></li>\n",
       "<li class=\"global-footer__item\"><a class=\"global-footer__link\" href=\"https://shop.icc-cricket.com/\" target=\"_blank\">\n",
       "<svg class=\"icon\"><use xlink:href=\"/resources/prod/v8.21.21/i/svg-output/icons.svg#icn-link-external\" xmlns:xlink=\"http://www.w3.org/1999/xlink\"></use></svg>\n",
       "                    \tCWC22 Shop\n",
       "                \t</a></li>\n",
       "</ul>\n",
       "</div>\n",
       "</div>\n",
       "</div>\n",
       "<nav aria-label=\"footer policy links\" class=\"global-footer-corporate\" role=\"navigation\">\n",
       "<ul class=\"global-footer-corporate__list\">\n",
       "<li class=\"global-footer-corporate__item\" role=\"menuitem\">\n",
       "<a class=\"global-footer-corporate__link\" href=\"http://www.icc-cricket.com/about/the-icc/legal-notices/website-terms-of-use\">\n",
       "                        Legal Notice\n",
       "                    </a>\n",
       "</li>\n",
       "<li class=\"global-footer-corporate__item\" role=\"menuitem\">\n",
       "<a class=\"global-footer-corporate__link\" href=\"http://www.icc-cricket.com/about/the-icc/legal-notices/privacy-policy\">\n",
       "                        Privacy Policy\n",
       "                    </a>\n",
       "</li>\n",
       "<li class=\"global-footer-corporate__item\">2022 © International Cricket Council FZ LLC</li>\n",
       "</ul>\n",
       "</nav>\n",
       "</div>\n",
       "</footer></body>\n",
       "</html>"
      ]
     },
     "execution_count": 6,
     "metadata": {},
     "output_type": "execute_result"
    }
   ],
   "source": [
    "soup=BeautifulSoup(page.content)\n",
    "soup"
   ]
  },
  {
   "cell_type": "code",
   "execution_count": 7,
   "id": "e47cfff4",
   "metadata": {},
   "outputs": [
    {
     "data": {
      "text/plain": [
       "<span class=\"u-hide-phablet\">New Zealand</span>"
      ]
     },
     "execution_count": 7,
     "metadata": {},
     "output_type": "execute_result"
    }
   ],
   "source": [
    "T=soup.find('span', class_=\"u-hide-phablet\")\n",
    "T"
   ]
  },
  {
   "cell_type": "code",
   "execution_count": 8,
   "id": "00cfe0bc",
   "metadata": {},
   "outputs": [
    {
     "data": {
      "text/plain": [
       "'New Zealand'"
      ]
     },
     "execution_count": 8,
     "metadata": {},
     "output_type": "execute_result"
    }
   ],
   "source": [
    "T.text"
   ]
  },
  {
   "cell_type": "code",
   "execution_count": 9,
   "id": "b9500ddd",
   "metadata": {},
   "outputs": [
    {
     "data": {
      "text/plain": [
       "['New Zealand']"
      ]
     },
     "execution_count": 9,
     "metadata": {},
     "output_type": "execute_result"
    }
   ],
   "source": [
    "T=[]\n",
    "for i in soup.find('span', class_=\"u-hide-phablet\"):\n",
    "    T.append(i.text.replace('\\n',''))\n",
    "T"
   ]
  },
  {
   "cell_type": "code",
   "execution_count": 10,
   "id": "a53d61e0",
   "metadata": {},
   "outputs": [
    {
     "data": {
      "text/plain": [
       "<td class=\"rankings-block__banner--matches\">20</td>"
      ]
     },
     "execution_count": 10,
     "metadata": {},
     "output_type": "execute_result"
    }
   ],
   "source": [
    "M=soup.find('td', class_=\"rankings-block__banner--matches\")\n",
    "M"
   ]
  },
  {
   "cell_type": "code",
   "execution_count": 11,
   "id": "e242d8bd",
   "metadata": {},
   "outputs": [
    {
     "data": {
      "text/plain": [
       "['20']"
      ]
     },
     "execution_count": 11,
     "metadata": {},
     "output_type": "execute_result"
    }
   ],
   "source": [
    "M=[]\n",
    "for i in soup.find('td', class_=\"rankings-block__banner--matches\"):\n",
    "    M.append(i.text.replace('\\n',''))\n",
    "M"
   ]
  },
  {
   "cell_type": "code",
   "execution_count": 12,
   "id": "f3525cb0",
   "metadata": {},
   "outputs": [
    {
     "data": {
      "text/plain": [
       "<td class=\"rankings-block__banner--points\">2,448</td>"
      ]
     },
     "execution_count": 12,
     "metadata": {},
     "output_type": "execute_result"
    }
   ],
   "source": [
    "P=soup.find('td', class_=\"rankings-block__banner--points\")\n",
    "P"
   ]
  },
  {
   "cell_type": "code",
   "execution_count": 13,
   "id": "714564fb",
   "metadata": {},
   "outputs": [
    {
     "data": {
      "text/plain": [
       "['2,448']"
      ]
     },
     "execution_count": 13,
     "metadata": {},
     "output_type": "execute_result"
    }
   ],
   "source": [
    "P=[]\n",
    "for i in soup.find('td', class_=\"rankings-block__banner--points\"):\n",
    "    P.append(i.text.replace('\\n',''))\n",
    "P\n"
   ]
  },
  {
   "cell_type": "code",
   "execution_count": 14,
   "id": "e801f7de",
   "metadata": {},
   "outputs": [
    {
     "data": {
      "text/plain": [
       "'\\n                            122\\n                            \\n\\n'"
      ]
     },
     "execution_count": 14,
     "metadata": {},
     "output_type": "execute_result"
    }
   ],
   "source": [
    "R=soup.find('td', class_=\"rankings-block__banner--rating u-text-right\")\n",
    "R.text"
   ]
  },
  {
   "cell_type": "code",
   "execution_count": 15,
   "id": "a1c5b36c",
   "metadata": {},
   "outputs": [
    {
     "data": {
      "text/plain": [
       "['                            122                            ', '', '', '', '']"
      ]
     },
     "execution_count": 15,
     "metadata": {},
     "output_type": "execute_result"
    }
   ],
   "source": [
    "R=[]\n",
    "for i in soup.find('td', class_=\"rankings-block__banner--rating u-text-right\"):\n",
    "    R.append(i.text.replace('\\n',''))\n",
    "R"
   ]
  },
  {
   "cell_type": "code",
   "execution_count": 16,
   "id": "a11b5afd",
   "metadata": {},
   "outputs": [
    {
     "data": {
      "text/plain": [
       "''"
      ]
     },
     "execution_count": 16,
     "metadata": {},
     "output_type": "execute_result"
    }
   ],
   "source": [
    "R.pop(1)"
   ]
  },
  {
   "cell_type": "code",
   "execution_count": 17,
   "id": "63671a40",
   "metadata": {},
   "outputs": [
    {
     "data": {
      "text/plain": [
       "''"
      ]
     },
     "execution_count": 17,
     "metadata": {},
     "output_type": "execute_result"
    }
   ],
   "source": [
    "R.pop(1)"
   ]
  },
  {
   "cell_type": "code",
   "execution_count": 18,
   "id": "8a867dd2",
   "metadata": {},
   "outputs": [
    {
     "data": {
      "text/plain": [
       "''"
      ]
     },
     "execution_count": 18,
     "metadata": {},
     "output_type": "execute_result"
    }
   ],
   "source": [
    "R.pop(1)"
   ]
  },
  {
   "cell_type": "code",
   "execution_count": 19,
   "id": "0e34cb73",
   "metadata": {},
   "outputs": [
    {
     "data": {
      "text/plain": [
       "''"
      ]
     },
     "execution_count": 19,
     "metadata": {},
     "output_type": "execute_result"
    }
   ],
   "source": [
    "R.pop(1)"
   ]
  },
  {
   "cell_type": "code",
   "execution_count": 20,
   "id": "9a0f2e12",
   "metadata": {},
   "outputs": [
    {
     "data": {
      "text/plain": [
       "['                            122                            ']"
      ]
     },
     "execution_count": 20,
     "metadata": {},
     "output_type": "execute_result"
    }
   ],
   "source": [
    "R"
   ]
  },
  {
   "cell_type": "code",
   "execution_count": null,
   "id": "e0a1959c",
   "metadata": {},
   "outputs": [],
   "source": []
  },
  {
   "cell_type": "code",
   "execution_count": null,
   "id": "f8b2a680",
   "metadata": {},
   "outputs": [],
   "source": []
  },
  {
   "cell_type": "code",
   "execution_count": 21,
   "id": "1726e22f",
   "metadata": {},
   "outputs": [],
   "source": [
    "Team=soup.find('span', class_=\"u-hide-phablet\")"
   ]
  },
  {
   "cell_type": "code",
   "execution_count": 22,
   "id": "22653b9c",
   "metadata": {},
   "outputs": [
    {
     "data": {
      "text/plain": [
       "'New Zealand'"
      ]
     },
     "execution_count": 22,
     "metadata": {},
     "output_type": "execute_result"
    }
   ],
   "source": [
    "Team.text.replace('\\n','')"
   ]
  },
  {
   "cell_type": "code",
   "execution_count": 23,
   "id": "0d5603fc",
   "metadata": {},
   "outputs": [
    {
     "data": {
      "text/plain": [
       "['England',\n",
       " 'Australia',\n",
       " 'India',\n",
       " 'South Africa',\n",
       " 'Pakistan',\n",
       " 'Bangladesh',\n",
       " 'Sri Lanka',\n",
       " 'West Indies',\n",
       " 'Afghanistan']"
      ]
     },
     "execution_count": 23,
     "metadata": {},
     "output_type": "execute_result"
    }
   ],
   "source": [
    "Team=[]\n",
    "for i in soup.find_all('span', class_=\"u-hide-phablet\")[:10]:\n",
    "        Team.append(i.text.replace('\\n',''))\n",
    "Team.pop(0)\n",
    "Team"
   ]
  },
  {
   "cell_type": "code",
   "execution_count": 24,
   "id": "ed1d09a6",
   "metadata": {},
   "outputs": [
    {
     "data": {
      "text/plain": [
       "<td class=\"table-body__cell u-center-text\">32</td>"
      ]
     },
     "execution_count": 24,
     "metadata": {},
     "output_type": "execute_result"
    }
   ],
   "source": [
    "Matches=soup.find('td',class_=\"table-body__cell u-center-text\")\n",
    "Matches"
   ]
  },
  {
   "cell_type": "code",
   "execution_count": 25,
   "id": "b6d25901",
   "metadata": {},
   "outputs": [
    {
     "data": {
      "text/plain": [
       "['32',\n",
       " '3,793',\n",
       " '31',\n",
       " '3,475',\n",
       " '38',\n",
       " '4,162',\n",
       " '31',\n",
       " '3,167',\n",
       " '30',\n",
       " '2,921',\n",
       " '36',\n",
       " '3,350',\n",
       " '35',\n",
       " '2,835',\n",
       " '36',\n",
       " '2,788',\n",
       " '23',\n",
       " '1,562']"
      ]
     },
     "execution_count": 25,
     "metadata": {},
     "output_type": "execute_result"
    }
   ],
   "source": [
    "Matches=[]\n",
    "for i in soup.find_all('td',class_=\"table-body__cell u-center-text\")[:18]:\n",
    "    Matches.append(i.text.replace('\\n',''))\n",
    "Matches"
   ]
  },
  {
   "cell_type": "code",
   "execution_count": 26,
   "id": "61c1ceb1",
   "metadata": {},
   "outputs": [
    {
     "data": {
      "text/plain": [
       "'3,793'"
      ]
     },
     "execution_count": 26,
     "metadata": {},
     "output_type": "execute_result"
    }
   ],
   "source": [
    "Matches.pop(1)"
   ]
  },
  {
   "cell_type": "code",
   "execution_count": 27,
   "id": "630c715c",
   "metadata": {},
   "outputs": [
    {
     "data": {
      "text/plain": [
       "'3,475'"
      ]
     },
     "execution_count": 27,
     "metadata": {},
     "output_type": "execute_result"
    }
   ],
   "source": [
    "Matches.pop(2)"
   ]
  },
  {
   "cell_type": "code",
   "execution_count": 28,
   "id": "cf75d9c8",
   "metadata": {},
   "outputs": [
    {
     "data": {
      "text/plain": [
       "'4,162'"
      ]
     },
     "execution_count": 28,
     "metadata": {},
     "output_type": "execute_result"
    }
   ],
   "source": [
    "Matches.pop(3)"
   ]
  },
  {
   "cell_type": "code",
   "execution_count": 29,
   "id": "e1e58424",
   "metadata": {},
   "outputs": [
    {
     "data": {
      "text/plain": [
       "'3,167'"
      ]
     },
     "execution_count": 29,
     "metadata": {},
     "output_type": "execute_result"
    }
   ],
   "source": [
    "Matches.pop(4)"
   ]
  },
  {
   "cell_type": "code",
   "execution_count": 30,
   "id": "7038547d",
   "metadata": {},
   "outputs": [
    {
     "data": {
      "text/plain": [
       "'2,921'"
      ]
     },
     "execution_count": 30,
     "metadata": {},
     "output_type": "execute_result"
    }
   ],
   "source": [
    "Matches.pop(5)"
   ]
  },
  {
   "cell_type": "code",
   "execution_count": 31,
   "id": "56bd0b6b",
   "metadata": {},
   "outputs": [
    {
     "data": {
      "text/plain": [
       "'3,350'"
      ]
     },
     "execution_count": 31,
     "metadata": {},
     "output_type": "execute_result"
    }
   ],
   "source": [
    "Matches.pop(6)"
   ]
  },
  {
   "cell_type": "code",
   "execution_count": 32,
   "id": "627cbb3a",
   "metadata": {},
   "outputs": [
    {
     "data": {
      "text/plain": [
       "'2,835'"
      ]
     },
     "execution_count": 32,
     "metadata": {},
     "output_type": "execute_result"
    }
   ],
   "source": [
    "Matches.pop(7)"
   ]
  },
  {
   "cell_type": "code",
   "execution_count": 33,
   "id": "fe7d3969",
   "metadata": {},
   "outputs": [
    {
     "data": {
      "text/plain": [
       "'2,788'"
      ]
     },
     "execution_count": 33,
     "metadata": {},
     "output_type": "execute_result"
    }
   ],
   "source": [
    "Matches.pop(8)"
   ]
  },
  {
   "cell_type": "code",
   "execution_count": 34,
   "id": "9cd77e11",
   "metadata": {},
   "outputs": [
    {
     "data": {
      "text/plain": [
       "'1,562'"
      ]
     },
     "execution_count": 34,
     "metadata": {},
     "output_type": "execute_result"
    }
   ],
   "source": [
    "Matches.pop(9)"
   ]
  },
  {
   "cell_type": "code",
   "execution_count": 35,
   "id": "bc2bc630",
   "metadata": {},
   "outputs": [
    {
     "data": {
      "text/plain": [
       "['32', '31', '38', '31', '30', '36', '35', '36', '23']"
      ]
     },
     "execution_count": 35,
     "metadata": {},
     "output_type": "execute_result"
    }
   ],
   "source": [
    "Matches"
   ]
  },
  {
   "cell_type": "code",
   "execution_count": 36,
   "id": "84891ba2",
   "metadata": {},
   "outputs": [
    {
     "data": {
      "text/plain": [
       "<td class=\"table-body__cell u-center-text\">32</td>"
      ]
     },
     "execution_count": 36,
     "metadata": {},
     "output_type": "execute_result"
    }
   ],
   "source": [
    "Points=soup.find('td', class_=\"table-body__cell u-center-text\")\n",
    "Points"
   ]
  },
  {
   "cell_type": "code",
   "execution_count": 37,
   "id": "800a344a",
   "metadata": {},
   "outputs": [
    {
     "data": {
      "text/plain": [
       "['32',\n",
       " '3,793',\n",
       " '31',\n",
       " '3,475',\n",
       " '38',\n",
       " '4,162',\n",
       " '31',\n",
       " '3,167',\n",
       " '30',\n",
       " '2,921',\n",
       " '36',\n",
       " '3,350',\n",
       " '35',\n",
       " '2,835',\n",
       " '36',\n",
       " '2,788',\n",
       " '23',\n",
       " '1,562']"
      ]
     },
     "execution_count": 37,
     "metadata": {},
     "output_type": "execute_result"
    }
   ],
   "source": [
    "Points=[]\n",
    "for i in soup.find_all('td', class_=\"table-body__cell u-center-text\")[:18]:\n",
    "    Points.append(i.text.replace('\\n',''))\n",
    "Points"
   ]
  },
  {
   "cell_type": "code",
   "execution_count": 38,
   "id": "2537be01",
   "metadata": {},
   "outputs": [
    {
     "data": {
      "text/plain": [
       "'32'"
      ]
     },
     "execution_count": 38,
     "metadata": {},
     "output_type": "execute_result"
    }
   ],
   "source": [
    "Points.pop(0)"
   ]
  },
  {
   "cell_type": "code",
   "execution_count": 39,
   "id": "ca636270",
   "metadata": {},
   "outputs": [
    {
     "data": {
      "text/plain": [
       "'31'"
      ]
     },
     "execution_count": 39,
     "metadata": {},
     "output_type": "execute_result"
    }
   ],
   "source": [
    "Points.pop(1)"
   ]
  },
  {
   "cell_type": "code",
   "execution_count": 40,
   "id": "8d48dc00",
   "metadata": {},
   "outputs": [
    {
     "data": {
      "text/plain": [
       "'38'"
      ]
     },
     "execution_count": 40,
     "metadata": {},
     "output_type": "execute_result"
    }
   ],
   "source": [
    "Points.pop(2)"
   ]
  },
  {
   "cell_type": "code",
   "execution_count": 41,
   "id": "80434765",
   "metadata": {},
   "outputs": [
    {
     "data": {
      "text/plain": [
       "'31'"
      ]
     },
     "execution_count": 41,
     "metadata": {},
     "output_type": "execute_result"
    }
   ],
   "source": [
    "Points.pop(3)"
   ]
  },
  {
   "cell_type": "code",
   "execution_count": 42,
   "id": "3bdf5e50",
   "metadata": {},
   "outputs": [
    {
     "data": {
      "text/plain": [
       "'30'"
      ]
     },
     "execution_count": 42,
     "metadata": {},
     "output_type": "execute_result"
    }
   ],
   "source": [
    "Points.pop(4)"
   ]
  },
  {
   "cell_type": "code",
   "execution_count": 43,
   "id": "53d025c8",
   "metadata": {},
   "outputs": [
    {
     "data": {
      "text/plain": [
       "'36'"
      ]
     },
     "execution_count": 43,
     "metadata": {},
     "output_type": "execute_result"
    }
   ],
   "source": [
    "Points.pop(5)"
   ]
  },
  {
   "cell_type": "code",
   "execution_count": 44,
   "id": "67e630ed",
   "metadata": {},
   "outputs": [
    {
     "data": {
      "text/plain": [
       "'35'"
      ]
     },
     "execution_count": 44,
     "metadata": {},
     "output_type": "execute_result"
    }
   ],
   "source": [
    "Points.pop(6)"
   ]
  },
  {
   "cell_type": "code",
   "execution_count": 45,
   "id": "c646e256",
   "metadata": {},
   "outputs": [
    {
     "data": {
      "text/plain": [
       "'36'"
      ]
     },
     "execution_count": 45,
     "metadata": {},
     "output_type": "execute_result"
    }
   ],
   "source": [
    "Points.pop(7)"
   ]
  },
  {
   "cell_type": "code",
   "execution_count": 46,
   "id": "e084259a",
   "metadata": {},
   "outputs": [
    {
     "data": {
      "text/plain": [
       "'23'"
      ]
     },
     "execution_count": 46,
     "metadata": {},
     "output_type": "execute_result"
    }
   ],
   "source": [
    "Points.pop(8)"
   ]
  },
  {
   "cell_type": "code",
   "execution_count": 47,
   "id": "ab948a4b",
   "metadata": {},
   "outputs": [
    {
     "data": {
      "text/plain": [
       "['3,793',\n",
       " '3,475',\n",
       " '4,162',\n",
       " '3,167',\n",
       " '2,921',\n",
       " '3,350',\n",
       " '2,835',\n",
       " '2,788',\n",
       " '1,562']"
      ]
     },
     "execution_count": 47,
     "metadata": {},
     "output_type": "execute_result"
    }
   ],
   "source": [
    "Points"
   ]
  },
  {
   "cell_type": "code",
   "execution_count": 48,
   "id": "2ccb520f",
   "metadata": {},
   "outputs": [
    {
     "data": {
      "text/plain": [
       "<td class=\"table-body__cell u-text-right rating\">119</td>"
      ]
     },
     "execution_count": 48,
     "metadata": {},
     "output_type": "execute_result"
    }
   ],
   "source": [
    "Ranking=soup.find('td',class_=\"table-body__cell u-text-right rating\")\n",
    "Ranking"
   ]
  },
  {
   "cell_type": "code",
   "execution_count": 49,
   "id": "2ecb7421",
   "metadata": {},
   "outputs": [
    {
     "data": {
      "text/plain": [
       "'119'"
      ]
     },
     "execution_count": 49,
     "metadata": {},
     "output_type": "execute_result"
    }
   ],
   "source": [
    "Ranking.text"
   ]
  },
  {
   "cell_type": "code",
   "execution_count": 50,
   "id": "133d4627",
   "metadata": {},
   "outputs": [
    {
     "data": {
      "text/plain": [
       "['119', '112', '110', '102', '97', '93', '81', '77', '68']"
      ]
     },
     "execution_count": 50,
     "metadata": {},
     "output_type": "execute_result"
    }
   ],
   "source": [
    "Ranking=[]\n",
    "for i in soup.find_all('td',class_=\"table-body__cell u-text-right rating\")[:9]:\n",
    "    Ranking.append(i.text)\n",
    "Ranking"
   ]
  },
  {
   "cell_type": "code",
   "execution_count": 51,
   "id": "e5882b55",
   "metadata": {},
   "outputs": [
    {
     "data": {
      "text/html": [
       "<div>\n",
       "<style scoped>\n",
       "    .dataframe tbody tr th:only-of-type {\n",
       "        vertical-align: middle;\n",
       "    }\n",
       "\n",
       "    .dataframe tbody tr th {\n",
       "        vertical-align: top;\n",
       "    }\n",
       "\n",
       "    .dataframe thead th {\n",
       "        text-align: right;\n",
       "    }\n",
       "</style>\n",
       "<table border=\"1\" class=\"dataframe\">\n",
       "  <thead>\n",
       "    <tr style=\"text-align: right;\">\n",
       "      <th></th>\n",
       "      <th>TopTeam</th>\n",
       "      <th>Matches</th>\n",
       "      <th>Points</th>\n",
       "      <th>Ranking</th>\n",
       "    </tr>\n",
       "  </thead>\n",
       "  <tbody>\n",
       "    <tr>\n",
       "      <th>1</th>\n",
       "      <td>New Zealand</td>\n",
       "      <td>20</td>\n",
       "      <td>2,448</td>\n",
       "      <td>122               ...</td>\n",
       "    </tr>\n",
       "  </tbody>\n",
       "</table>\n",
       "</div>"
      ],
      "text/plain": [
       "       TopTeam Matches Points  \\\n",
       "1  New Zealand      20  2,448   \n",
       "\n",
       "                                             Ranking  \n",
       "1                              122               ...  "
      ]
     },
     "execution_count": 51,
     "metadata": {},
     "output_type": "execute_result"
    }
   ],
   "source": [
    "import pandas as pd\n",
    "import numpy as np\n",
    "df=pd.DataFrame({'TopTeam':T,'Matches':M,'Points':P,'Ranking':R})\n",
    "df.index = np.arange(1, len(df)+1)\n",
    "df"
   ]
  },
  {
   "cell_type": "code",
   "execution_count": 52,
   "id": "59959e5a",
   "metadata": {},
   "outputs": [
    {
     "data": {
      "text/html": [
       "<div>\n",
       "<style scoped>\n",
       "    .dataframe tbody tr th:only-of-type {\n",
       "        vertical-align: middle;\n",
       "    }\n",
       "\n",
       "    .dataframe tbody tr th {\n",
       "        vertical-align: top;\n",
       "    }\n",
       "\n",
       "    .dataframe thead th {\n",
       "        text-align: right;\n",
       "    }\n",
       "</style>\n",
       "<table border=\"1\" class=\"dataframe\">\n",
       "  <thead>\n",
       "    <tr style=\"text-align: right;\">\n",
       "      <th></th>\n",
       "      <th>Team</th>\n",
       "      <th>Matches</th>\n",
       "      <th>Points</th>\n",
       "      <th>Ranking</th>\n",
       "    </tr>\n",
       "  </thead>\n",
       "  <tbody>\n",
       "    <tr>\n",
       "      <th>2</th>\n",
       "      <td>England</td>\n",
       "      <td>32</td>\n",
       "      <td>3,793</td>\n",
       "      <td>119</td>\n",
       "    </tr>\n",
       "    <tr>\n",
       "      <th>3</th>\n",
       "      <td>Australia</td>\n",
       "      <td>31</td>\n",
       "      <td>3,475</td>\n",
       "      <td>112</td>\n",
       "    </tr>\n",
       "    <tr>\n",
       "      <th>4</th>\n",
       "      <td>India</td>\n",
       "      <td>38</td>\n",
       "      <td>4,162</td>\n",
       "      <td>110</td>\n",
       "    </tr>\n",
       "    <tr>\n",
       "      <th>5</th>\n",
       "      <td>South Africa</td>\n",
       "      <td>31</td>\n",
       "      <td>3,167</td>\n",
       "      <td>102</td>\n",
       "    </tr>\n",
       "    <tr>\n",
       "      <th>6</th>\n",
       "      <td>Pakistan</td>\n",
       "      <td>30</td>\n",
       "      <td>2,921</td>\n",
       "      <td>97</td>\n",
       "    </tr>\n",
       "    <tr>\n",
       "      <th>7</th>\n",
       "      <td>Bangladesh</td>\n",
       "      <td>36</td>\n",
       "      <td>3,350</td>\n",
       "      <td>93</td>\n",
       "    </tr>\n",
       "    <tr>\n",
       "      <th>8</th>\n",
       "      <td>Sri Lanka</td>\n",
       "      <td>35</td>\n",
       "      <td>2,835</td>\n",
       "      <td>81</td>\n",
       "    </tr>\n",
       "    <tr>\n",
       "      <th>9</th>\n",
       "      <td>West Indies</td>\n",
       "      <td>36</td>\n",
       "      <td>2,788</td>\n",
       "      <td>77</td>\n",
       "    </tr>\n",
       "    <tr>\n",
       "      <th>10</th>\n",
       "      <td>Afghanistan</td>\n",
       "      <td>23</td>\n",
       "      <td>1,562</td>\n",
       "      <td>68</td>\n",
       "    </tr>\n",
       "  </tbody>\n",
       "</table>\n",
       "</div>"
      ],
      "text/plain": [
       "            Team Matches Points Ranking\n",
       "2        England      32  3,793     119\n",
       "3      Australia      31  3,475     112\n",
       "4          India      38  4,162     110\n",
       "5   South Africa      31  3,167     102\n",
       "6       Pakistan      30  2,921      97\n",
       "7     Bangladesh      36  3,350      93\n",
       "8      Sri Lanka      35  2,835      81\n",
       "9    West Indies      36  2,788      77\n",
       "10   Afghanistan      23  1,562      68"
      ]
     },
     "execution_count": 52,
     "metadata": {},
     "output_type": "execute_result"
    }
   ],
   "source": [
    "df=pd.DataFrame({'Team':Team,'Matches':Matches,'Points':Points,'Ranking':Ranking})\n",
    "df.index = np.arange(2, len(df)+2)\n",
    "df"
   ]
  },
  {
   "cell_type": "markdown",
   "id": "0ba358cc",
   "metadata": {},
   "source": [
    "# Top 10 ODI Batsmen along with the records of their team and rating."
   ]
  },
  {
   "cell_type": "code",
   "execution_count": 53,
   "id": "5ee4a65c",
   "metadata": {},
   "outputs": [],
   "source": [
    "player = []\n",
    "country = []\n",
    "rating = []\n",
    "\n",
    "page = requests.get('https://www.icc-cricket.com/rankings/mens/player-rankings/odi/batting')\n",
    "\n",
    "soup = BeautifulSoup(page.content)\n",
    "\n",
    "banner = soup.find('div', class_=\"rankings-block__banner--name-large\")\n",
    "\n",
    "player.append(banner.text.replace('\\n',''))\n",
    "\n",
    "banner1 = soup.find('div', class_=\"rankings-block__banner--rating\")\n",
    "\n",
    "rating.append(banner1.text.replace('\\n','').strip())\n",
    "\n",
    "banner2 = soup.find('div', class_=\"rankings-block__banner--nationality\")\n",
    "\n",
    "country.append(banner2.text.replace('\\n','').strip())\n",
    "\n",
    "\n",
    "rest_table = soup.find_all('tr', class_=\"table-body\")\n",
    "\n",
    "for i in rest_table:\n",
    "    a1 = player.append(i.a.text.replace('\\n',''))\n",
    "\n",
    "\n",
    "for i in rest_table:\n",
    "    a2 = country.append(i.find('span', class_=\"table-body__logo-text\").text.replace('\\n','').strip())\n",
    "\n",
    "\n",
    "for i in rest_table:\n",
    "    a3 = rating.append(i.find('td', class_=\"table-body__cell rating\").text.replace('\\n','').strip())"
   ]
  },
  {
   "cell_type": "code",
   "execution_count": 57,
   "id": "b8eb7a66",
   "metadata": {},
   "outputs": [
    {
     "data": {
      "text/html": [
       "<div>\n",
       "<style scoped>\n",
       "    .dataframe tbody tr th:only-of-type {\n",
       "        vertical-align: middle;\n",
       "    }\n",
       "\n",
       "    .dataframe tbody tr th {\n",
       "        vertical-align: top;\n",
       "    }\n",
       "\n",
       "    .dataframe thead th {\n",
       "        text-align: right;\n",
       "    }\n",
       "</style>\n",
       "<table border=\"1\" class=\"dataframe\">\n",
       "  <thead>\n",
       "    <tr style=\"text-align: right;\">\n",
       "      <th></th>\n",
       "      <th>Player</th>\n",
       "      <th>Country</th>\n",
       "      <th>Rating</th>\n",
       "    </tr>\n",
       "  </thead>\n",
       "  <tbody>\n",
       "    <tr>\n",
       "      <th>0</th>\n",
       "      <td>Babar Azam</td>\n",
       "      <td>PAK</td>\n",
       "      <td>891</td>\n",
       "    </tr>\n",
       "    <tr>\n",
       "      <th>1</th>\n",
       "      <td>Virat Kohli</td>\n",
       "      <td>IND</td>\n",
       "      <td>811</td>\n",
       "    </tr>\n",
       "    <tr>\n",
       "      <th>2</th>\n",
       "      <td>Imam-ul-Haq</td>\n",
       "      <td>PAK</td>\n",
       "      <td>795</td>\n",
       "    </tr>\n",
       "    <tr>\n",
       "      <th>3</th>\n",
       "      <td>Rohit Sharma</td>\n",
       "      <td>IND</td>\n",
       "      <td>791</td>\n",
       "    </tr>\n",
       "    <tr>\n",
       "      <th>4</th>\n",
       "      <td>Quinton de Kock</td>\n",
       "      <td>SA</td>\n",
       "      <td>789</td>\n",
       "    </tr>\n",
       "    <tr>\n",
       "      <th>5</th>\n",
       "      <td>Jonny Bairstow</td>\n",
       "      <td>ENG</td>\n",
       "      <td>775</td>\n",
       "    </tr>\n",
       "    <tr>\n",
       "      <th>6</th>\n",
       "      <td>Ross Taylor</td>\n",
       "      <td>NZ</td>\n",
       "      <td>775</td>\n",
       "    </tr>\n",
       "    <tr>\n",
       "      <th>7</th>\n",
       "      <td>Rassie van der Dussen</td>\n",
       "      <td>SA</td>\n",
       "      <td>769</td>\n",
       "    </tr>\n",
       "    <tr>\n",
       "      <th>8</th>\n",
       "      <td>David Warner</td>\n",
       "      <td>AUS</td>\n",
       "      <td>750</td>\n",
       "    </tr>\n",
       "    <tr>\n",
       "      <th>9</th>\n",
       "      <td>Aaron Finch</td>\n",
       "      <td>AUS</td>\n",
       "      <td>745</td>\n",
       "    </tr>\n",
       "  </tbody>\n",
       "</table>\n",
       "</div>"
      ],
      "text/plain": [
       "                  Player Country Rating\n",
       "0             Babar Azam     PAK    891\n",
       "1            Virat Kohli     IND    811\n",
       "2            Imam-ul-Haq     PAK    795\n",
       "3           Rohit Sharma     IND    791\n",
       "4        Quinton de Kock      SA    789\n",
       "5         Jonny Bairstow     ENG    775\n",
       "6            Ross Taylor      NZ    775\n",
       "7  Rassie van der Dussen      SA    769\n",
       "8           David Warner     AUS    750\n",
       "9            Aaron Finch     AUS    745"
      ]
     },
     "execution_count": 57,
     "metadata": {},
     "output_type": "execute_result"
    }
   ],
   "source": [
    "player_odi_men = pd.DataFrame({})\n",
    "player_odi_men['Player'] = player[0:10]\n",
    "player_odi_men['Country'] = country[0:10]\n",
    "player_odi_men['Rating'] = rating[0:10]\n",
    "player_odi_men"
   ]
  },
  {
   "cell_type": "markdown",
   "id": "bf1ed80b",
   "metadata": {},
   "source": [
    "# Question 3"
   ]
  },
  {
   "cell_type": "code",
   "execution_count": 58,
   "id": "b9f06283",
   "metadata": {},
   "outputs": [],
   "source": [
    "bowler = []\n",
    "country = []\n",
    "rating = []\n",
    "\n",
    "page = requests.get('https://www.icc-cricket.com/rankings/mens/player-rankings/odi/bowling')\n",
    "\n",
    "soup = BeautifulSoup(page.content)\n",
    "\n",
    "banner3 = soup.find('div', class_=\"rankings-block__banner--name-large\")\n",
    "\n",
    "bowler.append(banner3.text.replace('\\n',''))\n",
    "\n",
    "banner4 = soup.find('div', class_=\"rankings-block__banner--nationality\")\n",
    "\n",
    "country.append(banner4.text.replace('\\n','').strip())\n",
    "\n",
    "baner5 = soup.find('div', class_=\"rankings-block__banner--rating\")\n",
    "\n",
    "rating.append(baner5.text.replace('\\n','').strip())\n",
    "\n",
    "b1 = soup.find_all('tr', class_=\"table-body\")\n",
    "\n",
    "for i in b1:\n",
    "    x1 = bowler.append(i.a.text.replace('\\n',''))\n",
    "    \n",
    "for i in b1:\n",
    "    x2 = country.append(i.find('span', class_=\"table-body__logo-text\").text.replace('\\n','').strip())\n",
    "    \n",
    "for i in b1:\n",
    "    x3 = rating.append(i.find('td', class_=\"table-body__cell rating\").text.replace('\\n','').strip())"
   ]
  },
  {
   "cell_type": "code",
   "execution_count": 59,
   "id": "86e26d83",
   "metadata": {},
   "outputs": [
    {
     "data": {
      "text/html": [
       "<div>\n",
       "<style scoped>\n",
       "    .dataframe tbody tr th:only-of-type {\n",
       "        vertical-align: middle;\n",
       "    }\n",
       "\n",
       "    .dataframe tbody tr th {\n",
       "        vertical-align: top;\n",
       "    }\n",
       "\n",
       "    .dataframe thead th {\n",
       "        text-align: right;\n",
       "    }\n",
       "</style>\n",
       "<table border=\"1\" class=\"dataframe\">\n",
       "  <thead>\n",
       "    <tr style=\"text-align: right;\">\n",
       "      <th></th>\n",
       "      <th>Name</th>\n",
       "      <th>Country</th>\n",
       "      <th>Rating</th>\n",
       "    </tr>\n",
       "  </thead>\n",
       "  <tbody>\n",
       "    <tr>\n",
       "      <th>0</th>\n",
       "      <td>Trent Boult</td>\n",
       "      <td>NZ</td>\n",
       "      <td>726</td>\n",
       "    </tr>\n",
       "    <tr>\n",
       "      <th>1</th>\n",
       "      <td>Chris Woakes</td>\n",
       "      <td>ENG</td>\n",
       "      <td>700</td>\n",
       "    </tr>\n",
       "    <tr>\n",
       "      <th>2</th>\n",
       "      <td>Josh Hazlewood</td>\n",
       "      <td>AUS</td>\n",
       "      <td>698</td>\n",
       "    </tr>\n",
       "    <tr>\n",
       "      <th>3</th>\n",
       "      <td>Matt Henry</td>\n",
       "      <td>NZ</td>\n",
       "      <td>683</td>\n",
       "    </tr>\n",
       "    <tr>\n",
       "      <th>4</th>\n",
       "      <td>Mujeeb Ur Rahman</td>\n",
       "      <td>AFG</td>\n",
       "      <td>681</td>\n",
       "    </tr>\n",
       "    <tr>\n",
       "      <th>5</th>\n",
       "      <td>Jasprit Bumrah</td>\n",
       "      <td>IND</td>\n",
       "      <td>679</td>\n",
       "    </tr>\n",
       "    <tr>\n",
       "      <th>6</th>\n",
       "      <td>Shaheen Afridi</td>\n",
       "      <td>PAK</td>\n",
       "      <td>671</td>\n",
       "    </tr>\n",
       "    <tr>\n",
       "      <th>7</th>\n",
       "      <td>Mehedi Hasan</td>\n",
       "      <td>BAN</td>\n",
       "      <td>661</td>\n",
       "    </tr>\n",
       "    <tr>\n",
       "      <th>8</th>\n",
       "      <td>Shakib Al Hasan</td>\n",
       "      <td>BAN</td>\n",
       "      <td>657</td>\n",
       "    </tr>\n",
       "    <tr>\n",
       "      <th>9</th>\n",
       "      <td>Rashid Khan</td>\n",
       "      <td>AFG</td>\n",
       "      <td>650</td>\n",
       "    </tr>\n",
       "  </tbody>\n",
       "</table>\n",
       "</div>"
      ],
      "text/plain": [
       "               Name Country Rating\n",
       "0       Trent Boult      NZ    726\n",
       "1      Chris Woakes     ENG    700\n",
       "2    Josh Hazlewood     AUS    698\n",
       "3        Matt Henry      NZ    683\n",
       "4  Mujeeb Ur Rahman     AFG    681\n",
       "5    Jasprit Bumrah     IND    679\n",
       "6    Shaheen Afridi     PAK    671\n",
       "7      Mehedi Hasan     BAN    661\n",
       "8   Shakib Al Hasan     BAN    657\n",
       "9       Rashid Khan     AFG    650"
      ]
     },
     "execution_count": 59,
     "metadata": {},
     "output_type": "execute_result"
    }
   ],
   "source": [
    "best_bowlers = pd.DataFrame({})\n",
    "best_bowlers['Name'] = bowler[0:10]\n",
    "best_bowlers['Country'] =country[0:10]\n",
    "best_bowlers['Rating'] = rating[0:10]\n",
    "\n",
    "best_bowlers"
   ]
  },
  {
   "cell_type": "code",
   "execution_count": null,
   "id": "4de99dca",
   "metadata": {},
   "outputs": [],
   "source": []
  }
 ],
 "metadata": {
  "kernelspec": {
   "display_name": "Python 3 (ipykernel)",
   "language": "python",
   "name": "python3"
  },
  "language_info": {
   "codemirror_mode": {
    "name": "ipython",
    "version": 3
   },
   "file_extension": ".py",
   "mimetype": "text/x-python",
   "name": "python",
   "nbconvert_exporter": "python",
   "pygments_lexer": "ipython3",
   "version": "3.9.7"
  }
 },
 "nbformat": 4,
 "nbformat_minor": 5
}
